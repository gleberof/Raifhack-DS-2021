{
 "cells": [
  {
   "cell_type": "code",
   "execution_count": 1,
   "id": "5ef60606",
   "metadata": {},
   "outputs": [],
   "source": [
    "import sweetviz as sv"
   ]
  },
  {
   "cell_type": "code",
   "execution_count": 2,
   "id": "f3ed1889",
   "metadata": {},
   "outputs": [],
   "source": [
    "import pandas as pd"
   ]
  },
  {
   "cell_type": "code",
   "execution_count": 3,
   "id": "3b1b9075",
   "metadata": {},
   "outputs": [],
   "source": [
    "from pathlib import Path"
   ]
  },
  {
   "cell_type": "code",
   "execution_count": 4,
   "id": "11095fae",
   "metadata": {},
   "outputs": [],
   "source": [
    "train_path = Path('../data/train.csv')\n",
    "test_path = Path('../data/test.csv')"
   ]
  },
  {
   "cell_type": "code",
   "execution_count": 7,
   "id": "43edc4da",
   "metadata": {},
   "outputs": [
    {
     "name": "stderr",
     "output_type": "stream",
     "text": [
      "/home/egleb/.cache/pypoetry/virtualenvs/raifhack-ds-2021-dLUNAmKH-py3.8/lib/python3.8/site-packages/IPython/core/interactiveshell.py:3441: DtypeWarning: Columns (1) have mixed types.Specify dtype option on import or set low_memory=False.\n",
      "  exec(code_obj, self.user_global_ns, self.user_ns)\n"
     ]
    }
   ],
   "source": [
    "train = pd.read_csv(train_path)"
   ]
  },
  {
   "cell_type": "code",
   "execution_count": 9,
   "id": "02532490",
   "metadata": {},
   "outputs": [],
   "source": [
    "test = pd.read_csv(test_path)"
   ]
  },
  {
   "cell_type": "code",
   "execution_count": 11,
   "id": "b1f2c460",
   "metadata": {},
   "outputs": [],
   "source": [
    "train['floor'] = train['floor'].astype(str)"
   ]
  },
  {
   "cell_type": "code",
   "execution_count": 16,
   "id": "1d5d1875",
   "metadata": {},
   "outputs": [
    {
     "data": {
      "text/html": [
       "<div>\n",
       "<style scoped>\n",
       "    .dataframe tbody tr th:only-of-type {\n",
       "        vertical-align: middle;\n",
       "    }\n",
       "\n",
       "    .dataframe tbody tr th {\n",
       "        vertical-align: top;\n",
       "    }\n",
       "\n",
       "    .dataframe thead th {\n",
       "        text-align: right;\n",
       "    }\n",
       "</style>\n",
       "<table border=\"1\" class=\"dataframe\">\n",
       "  <thead>\n",
       "    <tr style=\"text-align: right;\">\n",
       "      <th></th>\n",
       "      <th>0</th>\n",
       "      <th>1</th>\n",
       "      <th>2</th>\n",
       "      <th>3</th>\n",
       "      <th>4</th>\n",
       "    </tr>\n",
       "  </thead>\n",
       "  <tbody>\n",
       "    <tr>\n",
       "      <th>city</th>\n",
       "      <td>Пермь</td>\n",
       "      <td>Шатура</td>\n",
       "      <td>Ярославль</td>\n",
       "      <td>Новокузнецк</td>\n",
       "      <td>Москва</td>\n",
       "    </tr>\n",
       "    <tr>\n",
       "      <th>floor</th>\n",
       "      <td>nan</td>\n",
       "      <td>nan</td>\n",
       "      <td>nan</td>\n",
       "      <td>nan</td>\n",
       "      <td>nan</td>\n",
       "    </tr>\n",
       "    <tr>\n",
       "      <th>id</th>\n",
       "      <td>COL_0</td>\n",
       "      <td>COL_1</td>\n",
       "      <td>COL_2</td>\n",
       "      <td>COL_3</td>\n",
       "      <td>COL_4</td>\n",
       "    </tr>\n",
       "    <tr>\n",
       "      <th>lat</th>\n",
       "      <td>57.998207</td>\n",
       "      <td>55.574284</td>\n",
       "      <td>57.61914</td>\n",
       "      <td>53.897083</td>\n",
       "      <td>55.80259</td>\n",
       "    </tr>\n",
       "    <tr>\n",
       "      <th>lng</th>\n",
       "      <td>56.292797</td>\n",
       "      <td>39.543835</td>\n",
       "      <td>39.850525</td>\n",
       "      <td>87.108604</td>\n",
       "      <td>37.48711</td>\n",
       "    </tr>\n",
       "    <tr>\n",
       "      <th>...</th>\n",
       "      <td>...</td>\n",
       "      <td>...</td>\n",
       "      <td>...</td>\n",
       "      <td>...</td>\n",
       "      <td>...</td>\n",
       "    </tr>\n",
       "    <tr>\n",
       "      <th>total_square</th>\n",
       "      <td>32.0</td>\n",
       "      <td>280.0</td>\n",
       "      <td>297.4</td>\n",
       "      <td>190.0</td>\n",
       "      <td>60.2</td>\n",
       "    </tr>\n",
       "    <tr>\n",
       "      <th>street</th>\n",
       "      <td>S27289</td>\n",
       "      <td>S17052</td>\n",
       "      <td>S16913</td>\n",
       "      <td>S10148</td>\n",
       "      <td>S1338</td>\n",
       "    </tr>\n",
       "    <tr>\n",
       "      <th>date</th>\n",
       "      <td>2020-01-05</td>\n",
       "      <td>2020-01-05</td>\n",
       "      <td>2020-01-05</td>\n",
       "      <td>2020-01-05</td>\n",
       "      <td>2020-01-05</td>\n",
       "    </tr>\n",
       "    <tr>\n",
       "      <th>realty_type</th>\n",
       "      <td>10</td>\n",
       "      <td>10</td>\n",
       "      <td>110</td>\n",
       "      <td>110</td>\n",
       "      <td>10</td>\n",
       "    </tr>\n",
       "    <tr>\n",
       "      <th>price_type</th>\n",
       "      <td>0</td>\n",
       "      <td>0</td>\n",
       "      <td>0</td>\n",
       "      <td>0</td>\n",
       "      <td>0</td>\n",
       "    </tr>\n",
       "  </tbody>\n",
       "</table>\n",
       "<p>77 rows × 5 columns</p>\n",
       "</div>"
      ],
      "text/plain": [
       "                       0           1           2            3           4\n",
       "city               Пермь      Шатура   Ярославль  Новокузнецк      Москва\n",
       "floor                nan         nan         nan          nan         nan\n",
       "id                 COL_0       COL_1       COL_2        COL_3       COL_4\n",
       "lat            57.998207   55.574284    57.61914    53.897083    55.80259\n",
       "lng            56.292797   39.543835   39.850525    87.108604    37.48711\n",
       "...                  ...         ...         ...          ...         ...\n",
       "total_square        32.0       280.0       297.4        190.0        60.2\n",
       "street            S27289      S17052      S16913       S10148       S1338\n",
       "date          2020-01-05  2020-01-05  2020-01-05   2020-01-05  2020-01-05\n",
       "realty_type           10          10         110          110          10\n",
       "price_type             0           0           0            0           0\n",
       "\n",
       "[77 rows x 5 columns]"
      ]
     },
     "execution_count": 16,
     "metadata": {},
     "output_type": "execute_result"
    }
   ],
   "source": [
    "train.head().T"
   ]
  },
  {
   "cell_type": "code",
   "execution_count": 18,
   "id": "cb57d361",
   "metadata": {},
   "outputs": [
    {
     "data": {
      "application/vnd.jupyter.widget-view+json": {
       "model_id": "ee1fa63c6bc24bedbc353dc7a35e4042",
       "version_major": 2,
       "version_minor": 0
      },
      "text/plain": [
       "                                             | | [  0%]   00:00 -> (? left)"
      ]
     },
     "metadata": {},
     "output_type": "display_data"
    },
    {
     "name": "stdout",
     "output_type": "stream",
     "text": [
      "Report train_2.html was generated! NOTEBOOK/COLAB USERS: the web browser MAY not pop up, regardless, the report IS saved in your notebook/colab files.\n"
     ]
    }
   ],
   "source": [
    "my_report = sv.analyze(train, target_feat='per_square_meter_price')\n",
    "my_report.show_html('train_2.html') # Default arguments will generate to \"SWEETVIZ_REPORT.html\""
   ]
  },
  {
   "cell_type": "code",
   "execution_count": 13,
   "id": "cf493ca2",
   "metadata": {},
   "outputs": [],
   "source": [
    "test['floor'] = test['floor'].astype(str)"
   ]
  },
  {
   "cell_type": "code",
   "execution_count": 14,
   "id": "51620d1f",
   "metadata": {},
   "outputs": [
    {
     "data": {
      "application/vnd.jupyter.widget-view+json": {
       "model_id": "08766d17aba949a49d818ab5dd4ef7ed",
       "version_major": 2,
       "version_minor": 0
      },
      "text/plain": [
       "                                             | | [  0%]   00:00 -> (? left)"
      ]
     },
     "metadata": {},
     "output_type": "display_data"
    },
    {
     "name": "stdout",
     "output_type": "stream",
     "text": [
      "Report test.html was generated! NOTEBOOK/COLAB USERS: the web browser MAY not pop up, regardless, the report IS saved in your notebook/colab files.\n"
     ]
    }
   ],
   "source": [
    "test_report = sv.analyze(test)\n",
    "test_report.show_html('test.html')"
   ]
  },
  {
   "cell_type": "code",
   "execution_count": 20,
   "id": "6419d73e",
   "metadata": {},
   "outputs": [
    {
     "data": {
      "text/plain": [
       "'2020-09-06'"
      ]
     },
     "execution_count": 20,
     "metadata": {},
     "output_type": "execute_result"
    }
   ],
   "source": [
    "test['date'].min()"
   ]
  },
  {
   "cell_type": "code",
   "execution_count": 21,
   "id": "adadd6f3",
   "metadata": {},
   "outputs": [
    {
     "data": {
      "text/plain": [
       "'2020-12-27'"
      ]
     },
     "execution_count": 21,
     "metadata": {},
     "output_type": "execute_result"
    }
   ],
   "source": [
    "test['date'].max()"
   ]
  },
  {
   "cell_type": "code",
   "execution_count": 23,
   "id": "fc056665",
   "metadata": {},
   "outputs": [
    {
     "data": {
      "text/plain": [
       "(1592, 76)"
      ]
     },
     "execution_count": 23,
     "metadata": {},
     "output_type": "execute_result"
    }
   ],
   "source": [
    "test[test['date'] > '2020-11-01'].shape"
   ]
  },
  {
   "cell_type": "code",
   "execution_count": 24,
   "id": "6cba0e87",
   "metadata": {},
   "outputs": [
    {
     "data": {
      "text/plain": [
       "(1382, 76)"
      ]
     },
     "execution_count": 24,
     "metadata": {},
     "output_type": "execute_result"
    }
   ],
   "source": [
    "test[test['date'] <= '2020-11-01'].shape"
   ]
  },
  {
   "cell_type": "code",
   "execution_count": 25,
   "id": "132574a7",
   "metadata": {},
   "outputs": [
    {
     "data": {
      "text/plain": [
       "'2020-08-23'"
      ]
     },
     "execution_count": 25,
     "metadata": {},
     "output_type": "execute_result"
    }
   ],
   "source": [
    "train['date'].max()"
   ]
  },
  {
   "cell_type": "code",
   "execution_count": 26,
   "id": "b7ae29b9",
   "metadata": {},
   "outputs": [
    {
     "data": {
      "text/plain": [
       "'2020-01-05'"
      ]
     },
     "execution_count": 26,
     "metadata": {},
     "output_type": "execute_result"
    }
   ],
   "source": [
    "train['date'].min()"
   ]
  },
  {
   "cell_type": "code",
   "execution_count": 27,
   "id": "6624dbb2",
   "metadata": {},
   "outputs": [
    {
     "data": {
      "application/vnd.jupyter.widget-view+json": {
       "model_id": "07aa0c04bbfe429395b0f6d7b60fcaf7",
       "version_major": 2,
       "version_minor": 0
      },
      "text/plain": [
       "                                             | | [  0%]   00:00 -> (? left)"
      ]
     },
     "metadata": {},
     "output_type": "display_data"
    },
    {
     "name": "stdout",
     "output_type": "stream",
     "text": [
      "Report train_pt0.html was generated! NOTEBOOK/COLAB USERS: the web browser MAY not pop up, regardless, the report IS saved in your notebook/colab files.\n"
     ]
    }
   ],
   "source": [
    "my_report_pt0 = sv.analyze(train[train.price_type == 0], target_feat='per_square_meter_price')\n",
    "my_report_pt0.show_html('train_pt0.html')"
   ]
  },
  {
   "cell_type": "code",
   "execution_count": 28,
   "id": "5cb27b06",
   "metadata": {},
   "outputs": [
    {
     "data": {
      "application/vnd.jupyter.widget-view+json": {
       "model_id": "09b1cdfc6a2b4986b67d0656e2c7ac32",
       "version_major": 2,
       "version_minor": 0
      },
      "text/plain": [
       "                                             | | [  0%]   00:00 -> (? left)"
      ]
     },
     "metadata": {},
     "output_type": "display_data"
    },
    {
     "name": "stdout",
     "output_type": "stream",
     "text": [
      "Report train_pt1.html was generated! NOTEBOOK/COLAB USERS: the web browser MAY not pop up, regardless, the report IS saved in your notebook/colab files.\n"
     ]
    }
   ],
   "source": [
    "my_report_pt1 = sv.analyze(train[train.price_type == 1], target_feat='per_square_meter_price')\n",
    "my_report_pt1.show_html('train_pt1.html')"
   ]
  },
  {
   "cell_type": "code",
   "execution_count": null,
   "id": "612f0964",
   "metadata": {},
   "outputs": [],
   "source": []
  }
 ],
 "metadata": {
  "kernelspec": {
   "display_name": "Python 3 (ipykernel)",
   "language": "python",
   "name": "python3"
  },
  "language_info": {
   "codemirror_mode": {
    "name": "ipython",
    "version": 3
   },
   "file_extension": ".py",
   "mimetype": "text/x-python",
   "name": "python",
   "nbconvert_exporter": "python",
   "pygments_lexer": "ipython3",
   "version": "3.8.9"
  }
 },
 "nbformat": 4,
 "nbformat_minor": 5
}
