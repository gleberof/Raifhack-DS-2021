{
 "cells": [
  {
   "cell_type": "code",
   "execution_count": 1,
   "id": "7d362d8d",
   "metadata": {},
   "outputs": [
    {
     "ename": "ModuleNotFoundError",
     "evalue": "No module named 'category_encoders'",
     "output_type": "error",
     "traceback": [
      "\u001b[0;31m---------------------------------------------------------------------------\u001b[0m",
      "\u001b[0;31mModuleNotFoundError\u001b[0m                       Traceback (most recent call last)",
      "\u001b[0;32m/tmp/ipykernel_2140885/1480911478.py\u001b[0m in \u001b[0;36m<module>\u001b[0;34m\u001b[0m\n\u001b[0;32m----> 1\u001b[0;31m \u001b[0;32mfrom\u001b[0m \u001b[0mcategory_encoders\u001b[0m\u001b[0;34m.\u001b[0m\u001b[0mcat_boost\u001b[0m \u001b[0;32mimport\u001b[0m \u001b[0mCatBoostEncoder\u001b[0m\u001b[0;34m\u001b[0m\u001b[0;34m\u001b[0m\u001b[0m\n\u001b[0m",
      "\u001b[0;31mModuleNotFoundError\u001b[0m: No module named 'category_encoders'"
     ]
    }
   ],
   "source": [
    "from category_encoders.cat_boost import CatBoostEncoder"
   ]
  },
  {
   "cell_type": "code",
   "execution_count": 2,
   "id": "29328f77",
   "metadata": {},
   "outputs": [],
   "source": [
    "import faiss"
   ]
  },
  {
   "cell_type": "code",
   "execution_count": 3,
   "id": "d8981327",
   "metadata": {},
   "outputs": [],
   "source": [
    "import typing\n",
    "import pickle\n",
    "import pandas as pd\n",
    "import numpy as np\n",
    "import logging\n",
    "\n",
    "from lightgbm import LGBMRegressor\n",
    "\n",
    "from sklearn.compose import ColumnTransformer\n",
    "from sklearn.pipeline import Pipeline\n",
    "from sklearn.preprocessing import OneHotEncoder, StandardScaler, OrdinalEncoder\n",
    "from sklearn.exceptions import NotFittedError\n",
    "from sklearn.model_selection import KFold, StratifiedKFold"
   ]
  },
  {
   "cell_type": "code",
   "execution_count": 4,
   "id": "85322187",
   "metadata": {},
   "outputs": [],
   "source": [
    "FOLDS = 5"
   ]
  },
  {
   "cell_type": "code",
   "execution_count": 5,
   "id": "100a7ff6",
   "metadata": {},
   "outputs": [],
   "source": [
    "def correct_floor(data):\n",
    "    data['floor'] = data['floor'].mask(data['floor'] == '-1.0', -1) \\\n",
    "                  .mask(data['floor'] == '-2.0', -2) \\\n",
    "                  .mask(data['floor'] == '-3.0', -3) \\\n",
    "                  .mask(data['floor'] == 'подвал, 1', 1) \\\n",
    "                  .mask(data['floor'] == 'подвал', -1) \\\n",
    "                  .mask(data['floor'] == 'цоколь, 1', 1) \\\n",
    "                  .mask(data['floor'] == '1,2,антресоль', 1) \\\n",
    "                  .mask(data['floor'] == 'цоколь', 0) \\\n",
    "                  .mask(data['floor'] == 'тех.этаж (6)', 6) \\\n",
    "                  .mask(data['floor'] == 'Подвал', -1) \\\n",
    "                  .mask(data['floor'] == 'Цоколь', 0) \\\n",
    "                  .mask(data['floor'] == 'фактически на уровне 1 этажа', 1) \\\n",
    "                  .mask(data['floor'] == '1,2,3', 1) \\\n",
    "                  .mask(data['floor'] == '1, подвал', 1) \\\n",
    "                  .mask(data['floor'] == '1,2,3,4', 1) \\\n",
    "                  .mask(data['floor'] == '1,2', 1) \\\n",
    "                  .mask(data['floor'] == '1,2,3,4,5', 1) \\\n",
    "                  .mask(data['floor'] == '5, мансарда', 5) \\\n",
    "                  .mask(data['floor'] == '1-й, подвал', 1) \\\n",
    "                  .mask(data['floor'] == '1, подвал, антресоль', 1) \\\n",
    "                  .mask(data['floor'] == 'мезонин', 2) \\\n",
    "                  .mask(data['floor'] == 'подвал, 1-3', 1) \\\n",
    "                  .mask(data['floor'] == '1 (Цокольный этаж)', 0) \\\n",
    "                  .mask(data['floor'] == '3, Мансарда (4 эт)', 3) \\\n",
    "                  .mask(data['floor'] == 'подвал,1', 1) \\\n",
    "                  .mask(data['floor'] == '1, антресоль', 1) \\\n",
    "                  .mask(data['floor'] == '1-3', 1) \\\n",
    "                  .mask(data['floor'] == 'мансарда (4эт)', 4) \\\n",
    "                  .mask(data['floor'] == '1, 2.', 1) \\\n",
    "                  .mask(data['floor'] == 'подвал , 1 ', 1) \\\n",
    "                  .mask(data['floor'] == '1, 2', 1) \\\n",
    "                  .mask(data['floor'] == 'подвал, 1,2,3', 1) \\\n",
    "                  .mask(data['floor'] == '1 + подвал (без отделки)', 1) \\\n",
    "                  .mask(data['floor'] == 'мансарда', 3) \\\n",
    "                  .mask(data['floor'] == '2,3', 2) \\\n",
    "                  .mask(data['floor'] == '4, 5', 4) \\\n",
    "                  .mask(data['floor'] == '1-й, 2-й', 1) \\\n",
    "                  .mask(data['floor'] == '1 этаж, подвал', 1) \\\n",
    "                  .mask(data['floor'] == '1, цоколь', 1) \\\n",
    "                  .mask(data['floor'] == 'подвал, 1-7, техэтаж', 1) \\\n",
    "                  .mask(data['floor'] == '3 (антресоль)', 3) \\\n",
    "                  .mask(data['floor'] == '1, 2, 3', 1) \\\n",
    "                  .mask(data['floor'] == 'Цоколь, 1,2(мансарда)', 1) \\\n",
    "                  .mask(data['floor'] == 'подвал, 3. 4 этаж', 3) \\\n",
    "                  .mask(data['floor'] == 'подвал, 1-4 этаж', 1) \\\n",
    "                  .mask(data['floor'] == 'подва, 1.2 этаж', 1) \\\n",
    "                  .mask(data['floor'] == '2, 3', 2) \\\n",
    "                  .mask(data['floor'] == '7,8', 7) \\\n",
    "                  .mask(data['floor'] == '1 этаж', 1) \\\n",
    "                  .mask(data['floor'] == '1-й', 1) \\\n",
    "                  .mask(data['floor'] == '3 этаж', 3) \\\n",
    "                  .mask(data['floor'] == '4 этаж', 4) \\\n",
    "                  .mask(data['floor'] == '5 этаж', 5) \\\n",
    "                  .mask(data['floor'] == 'подвал,1,2,3,4,5', 1) \\\n",
    "                  .mask(data['floor'] == 'подвал, цоколь, 1 этаж', 1) \\\n",
    "                  .mask(data['floor'] == '3, мансарда', 3) \\\n",
    "                  .mask(data['floor'] == 'цоколь, 1, 2,3,4,5,6', 1) \\\n",
    "                  .mask(data['floor'] == ' 1, 2, Антресоль', 1) \\\n",
    "                  .mask(data['floor'] == '3 этаж, мансарда (4 этаж)', 3) \\\n",
    "                  .mask(data['floor'] == 'цокольный', 0) \\\n",
    "                  .mask(data['floor'] == '1,2 ', 1) \\\n",
    "                  .mask(data['floor'] == '3,4', 3) \\\n",
    "                  .mask(data['floor'] == 'подвал, 1 и 4 этаж', 1) \\\n",
    "                  .mask(data['floor'] == '5(мансарда)', 5) \\\n",
    "                  .mask(data['floor'] == 'технический этаж,5,6', 5) \\\n",
    "                  .mask(data['floor'] == ' 1-2, подвальный', 1) \\\n",
    "                  .mask(data['floor'] == '1, 2, 3, мансардный', 1) \\\n",
    "                  .mask(data['floor'] == 'подвал, 1, 2, 3', 1) \\\n",
    "                  .mask(data['floor'] == '1,2,3, антресоль, технический этаж', 1) \\\n",
    "                  .mask(data['floor'] == '3, 4', 3) \\\n",
    "                  .mask(data['floor'] == '1-3 этажи, цоколь (188,4 кв.м), подвал (104 кв.м)', 1) \\\n",
    "                  .mask(data['floor'] == '1,2,3,4, подвал', 1) \\\n",
    "                  .mask(data['floor'] == '2-й', 2) \\\n",
    "                  .mask(data['floor'] == '1, 2 этаж', 1) \\\n",
    "                  .mask(data['floor'] == 'подвал, 1, 2', 1) \\\n",
    "                  .mask(data['floor'] == '1-7', 1) \\\n",
    "                  .mask(data['floor'] == '1 (по док-м цоколь)', 1) \\\n",
    "                  .mask(data['floor'] == '1,2,подвал ', 1) \\\n",
    "                  .mask(data['floor'] == 'подвал, 2', 2) \\\n",
    "                  .mask(data['floor'] == 'подвал,1,2,3', 1) \\\n",
    "                  .mask(data['floor'] == '1,2,3 этаж, подвал ', 1) \\\n",
    "                  .mask(data['floor'] == '1,2,3 этаж, подвал', 1) \\\n",
    "                  .mask(data['floor'] == '2, 3, 4, тех.этаж', 2) \\\n",
    "                  .mask(data['floor'] == 'цокольный, 1,2', 1) \\\n",
    "                  .mask(data['floor'] == 'Техническое подполье', -1) \\\n",
    "                  .mask(data['floor'] == '1.2', 1) \\\n",
    "                  .astype(float)\n",
    "    return data"
   ]
  },
  {
   "cell_type": "code",
   "execution_count": 6,
   "id": "e8a9de63",
   "metadata": {},
   "outputs": [],
   "source": [
    "import typing\n",
    "import numpy as np\n",
    "from sklearn.metrics import mean_absolute_percentage_error, r2_score, mean_squared_error\n",
    "\n",
    "THRESHOLD = 0.15\n",
    "NEGATIVE_WEIGHT = 1.1\n",
    "\n",
    "def deviation_metric_one_sample(y_true: typing.Union[float, int], y_pred: typing.Union[float, int]) -> float:\n",
    "    \"\"\"\n",
    "    Реализация кастомной метрики для хакатона.\n",
    "\n",
    "    :param y_true: float, реальная цена\n",
    "    :param y_pred: float, предсказанная цена\n",
    "    :return: float, значение метрики\n",
    "    \"\"\"\n",
    "    deviation = (y_pred - y_true) / np.maximum(1e-8, y_true)\n",
    "    if np.abs(deviation) <= THRESHOLD:\n",
    "        return 0\n",
    "    elif deviation <= - 4 * THRESHOLD:\n",
    "        return 9 * NEGATIVE_WEIGHT\n",
    "    elif deviation < -THRESHOLD:\n",
    "        return NEGATIVE_WEIGHT * ((deviation / THRESHOLD) + 1) ** 2\n",
    "    elif deviation < 4 * THRESHOLD:\n",
    "        return ((deviation / THRESHOLD) - 1) ** 2\n",
    "    else:\n",
    "        return 9\n",
    "\n",
    "\n",
    "def deviation_metric(y_true: np.array, y_pred: np.array) -> float:\n",
    "    return np.array([deviation_metric_one_sample(y_true[n], y_pred[n]) for n in range(len(y_true))]).mean()\n",
    "\n",
    "def median_absolute_percentage_error(y_true: np.array, y_pred: np.array) -> float:\n",
    "    return np.median(np.abs(y_pred-y_true)/y_true)\n",
    "\n",
    "def metrics_stat(y_true: np.array, y_pred: np.array) -> typing.Dict[str,float]:\n",
    "    mape = mean_absolute_percentage_error(y_true, y_pred)\n",
    "    mdape = median_absolute_percentage_error(y_true, y_pred)\n",
    "    rmse = mean_squared_error(y_true, y_pred, squared=False)\n",
    "    r2 = r2_score(y_true, y_pred)\n",
    "    raif_metric = deviation_metric(y_true, y_pred)\n",
    "    return {'mape':mape, 'mdape':mdape, 'rmse': rmse, 'r2': r2, 'raif_metric':raif_metric}\n",
    "\n",
    "EPS = 1e-8"
   ]
  },
  {
   "cell_type": "code",
   "execution_count": 7,
   "id": "f5415806",
   "metadata": {},
   "outputs": [],
   "source": [
    "from enum  import IntEnum\n",
    "\n",
    "UNKNOWN_VALUE = 'missing'\n",
    "\n",
    "class PriceTypeEnum(IntEnum):\n",
    "\n",
    "    OFFER_PRICE = 0 # цена из объявления\n",
    "    MANUAL_PRICE = 1 # цена, полученная путем ручной оценки"
   ]
  },
  {
   "cell_type": "code",
   "execution_count": 8,
   "id": "99ab2701",
   "metadata": {},
   "outputs": [],
   "source": [
    "def prepare_categorical(df: pd.DataFrame) -> pd.DataFrame:\n",
    "    \"\"\"\n",
    "    Заполняет пропущенные категориальные переменные\n",
    "    :param df: dataframe, обучающая выборка\n",
    "    :return: dataframe\n",
    "    \"\"\"\n",
    "    df_new = df.copy()\n",
    "    fillna_cols = ['region','city','street','realty_type']\n",
    "    df_new[fillna_cols] = df_new[fillna_cols].fillna(UNKNOWN_VALUE)\n",
    "    return df_new"
   ]
  },
  {
   "cell_type": "code",
   "execution_count": 9,
   "id": "a4d006eb",
   "metadata": {},
   "outputs": [],
   "source": [
    "# def prepare_numerrical(df: pd.DataFrame) -> pd.DataFrame:\n",
    "#     \"\"\"\n",
    "#     Заполняет пропущенные вещестенные переменные\n",
    "#     :param df: dataframe, обучающая выборка\n",
    "#     :return: dataframe\n",
    "#     \"\"\"\n",
    "#     df_new = df.copy()\n",
    "#     fillna_cols = ['region','city','street','realty_type']\n",
    "#     df_new[fillna_cols] = df_new[fillna_cols].fillna(UNKNOWN_VALUE)\n",
    "#     return df_new"
   ]
  },
  {
   "cell_type": "code",
   "execution_count": 10,
   "id": "4491197c",
   "metadata": {},
   "outputs": [],
   "source": [
    "TARGET = 'per_square_meter_price'\n",
    "# признаки (или набор признаков), для которых применяем smoothed target encoding\n",
    "CATEGORICAL_STE_FEATURES = ['region', 'city', 'realty_type', 'month']\n",
    "\n",
    "# признаки, для которых применяем one hot encoding\n",
    "CATEGORICAL_OHE_FEATURES = []\n",
    "\n",
    "# численные признаки\n",
    "NUM_FEATURES = ['floor', 'month_num', 'lat', 'lng', 'osm_amenity_points_in_0.001',\n",
    "       'osm_amenity_points_in_0.005', 'osm_amenity_points_in_0.0075',\n",
    "       'osm_amenity_points_in_0.01', 'osm_building_points_in_0.001',\n",
    "       'osm_building_points_in_0.005', 'osm_building_points_in_0.0075',\n",
    "       'osm_building_points_in_0.01', 'osm_catering_points_in_0.001',\n",
    "       'osm_catering_points_in_0.005', 'osm_catering_points_in_0.0075',\n",
    "       'osm_catering_points_in_0.01', 'osm_city_closest_dist',\n",
    "      'osm_city_nearest_population',\n",
    "       'osm_crossing_closest_dist', 'osm_crossing_points_in_0.001',\n",
    "       'osm_crossing_points_in_0.005', 'osm_crossing_points_in_0.0075',\n",
    "       'osm_crossing_points_in_0.01', 'osm_culture_points_in_0.001',\n",
    "       'osm_culture_points_in_0.005', 'osm_culture_points_in_0.0075',\n",
    "       'osm_culture_points_in_0.01', 'osm_finance_points_in_0.001',\n",
    "       'osm_finance_points_in_0.005', 'osm_finance_points_in_0.0075',\n",
    "       'osm_finance_points_in_0.01', 'osm_healthcare_points_in_0.005',\n",
    "       'osm_healthcare_points_in_0.0075', 'osm_healthcare_points_in_0.01',\n",
    "       'osm_historic_points_in_0.005', 'osm_historic_points_in_0.0075',\n",
    "       'osm_historic_points_in_0.01', 'osm_hotels_points_in_0.005',\n",
    "       'osm_hotels_points_in_0.0075', 'osm_hotels_points_in_0.01',\n",
    "       'osm_leisure_points_in_0.005', 'osm_leisure_points_in_0.0075',\n",
    "       'osm_leisure_points_in_0.01', 'osm_offices_points_in_0.001',\n",
    "       'osm_offices_points_in_0.005', 'osm_offices_points_in_0.0075',\n",
    "       'osm_offices_points_in_0.01', 'osm_shops_points_in_0.001',\n",
    "       'osm_shops_points_in_0.005', 'osm_shops_points_in_0.0075',\n",
    "       'osm_shops_points_in_0.01', 'osm_subway_closest_dist',\n",
    "       'osm_train_stop_closest_dist', 'osm_train_stop_points_in_0.005',\n",
    "       'osm_train_stop_points_in_0.0075', 'osm_train_stop_points_in_0.01',\n",
    "       'osm_transport_stop_closest_dist', 'osm_transport_stop_points_in_0.005',\n",
    "       'osm_transport_stop_points_in_0.0075',\n",
    "       'osm_transport_stop_points_in_0.01',\n",
    "       'reform_count_of_houses_1000', 'reform_count_of_houses_500',\n",
    "       'reform_house_population_1000', 'reform_house_population_500',\n",
    "       'reform_mean_floor_count_1000', 'reform_mean_floor_count_500',\n",
    "       'reform_mean_year_building_1000', 'reform_mean_year_building_500','total_square']\n",
    "\n",
    "MODEL_PARAMS = dict(\n",
    "            n_estimators=1000,\n",
    "            learning_rate=0.01,\n",
    "            reg_alpha=1,\n",
    "            num_leaves=40,\n",
    "            min_child_samples=5,\n",
    "            importance_type=\"gain\",\n",
    "            n_jobs=-1,\n",
    "            random_state=563,\n",
    "            objective='regression_l1',\n",
    "        )"
   ]
  },
  {
   "cell_type": "code",
   "execution_count": 11,
   "id": "c4e49da9",
   "metadata": {},
   "outputs": [],
   "source": [
    "class CoeffBoostingModel():\n",
    "    \"\"\"\n",
    "    Модель представляет из себя sklearn pipeline. Пошаговый алгоритм:\n",
    "      1) в качестве обучения выбираются все данные с price_type=0\n",
    "      1) все фичи делятся на три типа (numerical_features, ohe_categorical_features, ste_categorical_features):\n",
    "          1.1) numerical_features - применяется StandardScaler\n",
    "          1.2) ohe_categorical_featires - кодируются через one hot encoding\n",
    "          1.3) ste_categorical_features - кодируются через SmoothedTargetEncoder\n",
    "      2) после этого все полученные фичи конкатенируются в одно пространство фичей и подаются на вход модели Lightgbm\n",
    "      3) делаем предикт на данных с price_type=1, считаем среднее отклонение реальных значений от предикта. Вычитаем это отклонение на финальном шаге (чтобы сместить отклонение к 0)\n",
    "\n",
    "    :param numerical_features: list, список численных признаков из датафрейма\n",
    "    :param ohe_categorical_features: list, список категориальных признаков для one hot encoding\n",
    "    :param ste_categorical_features, list, список категориальных признаков для smoothed target encoding.\n",
    "                                     Можно кодировать сразу несколько полей (например объединять категориальные признаки)\n",
    "    :\n",
    "    \"\"\"\n",
    "\n",
    "    def __init__(self, numerical_features: typing.List[str],\n",
    "                 ohe_categorical_features: typing.List[str],\n",
    "                 ste_categorical_features: typing.List[typing.Union[str, typing.List[str]]],\n",
    "                 model_params: typing.Dict[str, typing.Union[str,int,float]]):\n",
    "        self.num_features = numerical_features\n",
    "        self.ohe_cat_features = ohe_categorical_features\n",
    "        self.ste_cat_features = ste_categorical_features\n",
    "\n",
    "        self.preprocessor = ColumnTransformer(transformers=[\n",
    "            ('num', StandardScaler(), self.num_features),\n",
    "            ('ohe', OneHotEncoder(), self.ohe_cat_features),\n",
    "            ('ste', CatBoostEncoder(handle_missing='value', handle_unknown='value'), # OrdinalEncoder(handle_unknown='use_encoded_value',unknown_value=-1), # CatBoostEncoder(handle_missing='value', handle_unknown='value'),\n",
    "             self.ste_cat_features)])\n",
    "\n",
    "        self.model = LGBMRegressor(**model_params)\n",
    "\n",
    "        self.pipeline = Pipeline(steps=[\n",
    "            ('preprocessor', self.preprocessor),\n",
    "            ('model', self.model)])\n",
    "\n",
    "        self._is_fitted = False\n",
    "        \n",
    "        self.coeff_model = LGBMRegressor(**model_params)\n",
    "        \n",
    "        self.coef_preprocessor = ColumnTransformer(transformers=[\n",
    "            ('num', StandardScaler(), self.num_features+['predictions']),\n",
    "            ('ohe', OneHotEncoder(), self.ohe_cat_features),\n",
    "            ('ste', CatBoostEncoder(handle_missing='value', handle_unknown='value'), # OrdinalEncoder(handle_unknown='use_encoded_value',unknown_value=-1), # CatBoostEncoder(handle_missing='value', handle_unknown='value'),\n",
    "             self.ste_cat_features)])\n",
    "        \n",
    "        self.coeff_pipeline = Pipeline(steps=[\n",
    "            ('preprocessor', self.coef_preprocessor),\n",
    "            ('model', self.coeff_model)])\n",
    "\n",
    "    def _find_corr_coefficient(self, X_manual: pd.DataFrame, y_manual: pd.Series):\n",
    "        \"\"\"Вычисление корректирующего коэффициента\n",
    "\n",
    "        :param X_manual: pd.DataFrame с ручными оценками\n",
    "        :param y_manual: pd.Series - цены ручника\n",
    "        \"\"\"\n",
    "        predictions = self.pipeline.predict(X_manual)\n",
    "        X_manual['predictions'] = self.pipeline.predict(X_manual)\n",
    "        self.coeff_pipeline.fit(X_manual, y_manual , model__feature_name=[f'{i}' for i in range(X_manual.shape[1])],\n",
    "                 model__sample_weight=1/y_manual.values)\n",
    "        self.__is_fitted = True\n",
    "\n",
    "    def fit(self, X_offer: pd.DataFrame, y_offer: pd.Series,\n",
    "            X_manual: pd.DataFrame, y_manual: pd.Series):\n",
    "        \"\"\"Обучение модели.\n",
    "        ML модель обучается на данных по предложениям на рынке (цены из объявления)\n",
    "        Затем вычисляется среднее отклонение между руяными оценками и предиктами для корректировки стоимости\n",
    "\n",
    "        :param X_offer: pd.DataFrame с объявлениями\n",
    "        :param y_offer: pd.Series - цена предложения (в объявлениях)\n",
    "        :param X_manual: pd.DataFrame с ручными оценками\n",
    "        :param y_manual: pd.Series - цены ручника\n",
    "        \"\"\"\n",
    "        print('Fit lightgbm')\n",
    "        self.pipeline.fit(X_offer, np.log1p(y_offer) , model__feature_name=[f'{i}' for i in range(X_offer.shape[1])],\n",
    "                         model__sample_weight=1/np.log1p(y_offer.values)) # ,model__categorical_feature=None)\n",
    "        print('Find corr coefficient')\n",
    "        self._find_corr_coefficient(X_manual, np.log1p(y_manual))\n",
    "        self.__is_fitted = True\n",
    "\n",
    "    def predict(self, X: pd.DataFrame) -> np.array:\n",
    "        \"\"\"Предсказание модели Предсказываем преобразованный таргет, затем конвертируем в обычную цену через обратное\n",
    "        преобразование.\n",
    "\n",
    "        :param X: pd.DataFrame\n",
    "        :return: np.array, предсказания (цены на коммерческую недвижимость)\n",
    "        \"\"\"\n",
    "        if self.__is_fitted:\n",
    "            X['predictions'] = self.pipeline.predict(X)\n",
    "            predictions = np.expm1(np.clip(self.coeff_pipeline.predict(X), 5,15))\n",
    "            return predictions\n",
    "        else:\n",
    "            raise NotFittedError(\n",
    "                \"This {} instance is not fitted yet! Call 'fit' with appropriate arguments before predict\".format(\n",
    "                    type(self).__name__\n",
    "                )\n",
    "            )\n",
    "\n",
    "    def save(self, path: str):\n",
    "        \"\"\"Сериализует модель в pickle.\n",
    "\n",
    "        :param path: str, путь до файла\n",
    "        \"\"\"\n",
    "        with open(path, \"wb\") as f:\n",
    "            pickle.dump(self, f)\n",
    "\n",
    "    @classmethod\n",
    "    def load(self, path: str):\n",
    "        \"\"\"Сериализует модель в pickle.\n",
    "\n",
    "        :param path: str, путь до файла\n",
    "        :return: Модель\n",
    "        \"\"\"\n",
    "        with open(path, \"rb\") as f:\n",
    "            model = pickle.load(f)\n",
    "        return model"
   ]
  },
  {
   "cell_type": "code",
   "execution_count": 12,
   "id": "973117df",
   "metadata": {},
   "outputs": [],
   "source": [
    "from tqdm.auto import tqdm\n",
    "from typing import List\n",
    "from sklearn.preprocessing import RobustScaler"
   ]
  },
  {
   "cell_type": "code",
   "execution_count": 13,
   "id": "597e41a3",
   "metadata": {},
   "outputs": [],
   "source": [
    "from pathlib import Path"
   ]
  },
  {
   "cell_type": "code",
   "execution_count": 14,
   "id": "32b52677",
   "metadata": {},
   "outputs": [],
   "source": [
    "train_path = Path('../data/train.csv')\n",
    "test_path = Path('../data/test.csv')\n",
    "submission_path = Path('../data/test_submission.csv')"
   ]
  },
  {
   "cell_type": "code",
   "execution_count": 15,
   "id": "19bd80a9",
   "metadata": {},
   "outputs": [],
   "source": [
    "pd.options.display.max_rows = 100"
   ]
  },
  {
   "cell_type": "code",
   "execution_count": 16,
   "id": "4d6c929b",
   "metadata": {},
   "outputs": [
    {
     "name": "stderr",
     "output_type": "stream",
     "text": [
      "/home/egleb/.cache/pypoetry/virtualenvs/raif-hack-dLUNAmKH-py3.8/lib/python3.8/site-packages/IPython/core/interactiveshell.py:3444: DtypeWarning: Columns (1) have mixed types.Specify dtype option on import or set low_memory=False.\n",
      "  exec(code_obj, self.user_global_ns, self.user_ns)\n"
     ]
    }
   ],
   "source": [
    "train_df = pd.read_csv(train_path)\n",
    "train_df['month'] = pd.to_datetime(train_df['date']).dt.month\n",
    "train_df['month_num'] = pd.to_datetime(train_df['date']).dt.month\n",
    "train_df = correct_floor(train_df)"
   ]
  },
  {
   "cell_type": "code",
   "execution_count": 17,
   "id": "c4062e1a",
   "metadata": {},
   "outputs": [
    {
     "data": {
      "text/plain": [
       "(279792, 79)"
      ]
     },
     "execution_count": 17,
     "metadata": {},
     "output_type": "execute_result"
    }
   ],
   "source": [
    "train_df.shape"
   ]
  },
  {
   "cell_type": "code",
   "execution_count": 18,
   "id": "e8222d4c",
   "metadata": {},
   "outputs": [],
   "source": [
    "#train_df_new = preprocess_data(train_df, strategy = 'drop')"
   ]
  },
  {
   "cell_type": "code",
   "execution_count": 19,
   "id": "8d049512",
   "metadata": {
    "scrolled": true
   },
   "outputs": [],
   "source": [
    "train_df_new = train_df"
   ]
  },
  {
   "cell_type": "code",
   "execution_count": 20,
   "id": "ac83536b",
   "metadata": {},
   "outputs": [
    {
     "data": {
      "text/plain": [
       "(279792, 79)"
      ]
     },
     "execution_count": 20,
     "metadata": {},
     "output_type": "execute_result"
    }
   ],
   "source": [
    "train_df_new.shape"
   ]
  },
  {
   "cell_type": "code",
   "execution_count": 21,
   "id": "f80da1e0",
   "metadata": {},
   "outputs": [
    {
     "name": "stdout",
     "output_type": "stream",
     "text": [
      "Fit lightgbm\n",
      "Find corr coefficient\n",
      "fold: 0, metrics {'mape': 0.22227011726044357, 'mdape': 0.16860753379747737, 'rmse': 76858.5559933847, 'r2': 0.32255120059723086, 'raif_metric': 1.2949181005706851}\n",
      "Fit lightgbm\n",
      "Find corr coefficient\n",
      "fold: 1, metrics {'mape': 0.2544560509445252, 'mdape': 0.16559763983104372, 'rmse': 76460.5227093682, 'r2': 0.34208088717141805, 'raif_metric': 1.1321196048744675}\n",
      "Fit lightgbm\n",
      "Find corr coefficient\n",
      "fold: 2, metrics {'mape': 0.2301242983602941, 'mdape': 0.1780667013078293, 'rmse': 48068.872200302234, 'r2': 0.5278635882315296, 'raif_metric': 1.2569471755087676}\n",
      "Fit lightgbm\n",
      "Find corr coefficient\n",
      "fold: 3, metrics {'mape': 0.23357117077603656, 'mdape': 0.17815749580496534, 'rmse': 74457.2412249784, 'r2': 0.3684042161135651, 'raif_metric': 1.3336053884126902}\n",
      "Fit lightgbm\n",
      "Find corr coefficient\n",
      "fold: 4, metrics {'mape': 0.23302452728690767, 'mdape': 0.18951280734899692, 'rmse': 68716.62936439847, 'r2': 0.4557722365882191, 'raif_metric': 1.3392962609574701}\n"
     ]
    }
   ],
   "source": [
    "kf = StratifiedKFold(n_splits=5, shuffle=True, random_state=239)\n",
    "metrics_arr = []\n",
    "predicts_arr = []\n",
    "for fold, (tr,va) in enumerate(kf.split(train_df_new, train_df_new['price_type'])):\n",
    "    df_tr = prepare_categorical(train_df_new.loc[tr].reset_index(drop=True))\n",
    "    df_vl = prepare_categorical(train_df_new.loc[va].reset_index(drop=True))\n",
    "    \n",
    "    X_offer_tr = df_tr[df_tr.price_type == PriceTypeEnum.OFFER_PRICE][NUM_FEATURES+CATEGORICAL_OHE_FEATURES+CATEGORICAL_STE_FEATURES]\n",
    "    y_offer_tr = df_tr[df_tr.price_type == PriceTypeEnum.OFFER_PRICE][TARGET]\n",
    "    \n",
    "    X_offer_vl = df_vl[df_vl.price_type == PriceTypeEnum.OFFER_PRICE][NUM_FEATURES+CATEGORICAL_OHE_FEATURES+CATEGORICAL_STE_FEATURES]\n",
    "    y_offer_vl = df_vl[df_vl.price_type == PriceTypeEnum.OFFER_PRICE][TARGET]\n",
    "    \n",
    "    \n",
    "    X_manual_tr = df_tr[df_tr.price_type == PriceTypeEnum.MANUAL_PRICE][NUM_FEATURES+CATEGORICAL_OHE_FEATURES+CATEGORICAL_STE_FEATURES]\n",
    "    y_manual_tr = df_tr[df_tr.price_type == PriceTypeEnum.MANUAL_PRICE][TARGET]\n",
    "    \n",
    "    X_manual_vl = df_vl[df_vl.price_type == PriceTypeEnum.MANUAL_PRICE][NUM_FEATURES+CATEGORICAL_OHE_FEATURES+CATEGORICAL_STE_FEATURES]\n",
    "    y_manual_vl = df_vl[df_vl.price_type == PriceTypeEnum.MANUAL_PRICE][TARGET]\n",
    "    X_manual_vl_id = df_vl[df_vl.price_type == PriceTypeEnum.MANUAL_PRICE]['id']\n",
    "    \n",
    "    \n",
    "    model = CoeffBoostingModel(numerical_features=NUM_FEATURES, ohe_categorical_features=CATEGORICAL_OHE_FEATURES,\n",
    "                          ste_categorical_features=CATEGORICAL_STE_FEATURES, model_params=MODEL_PARAMS)\n",
    "    \n",
    "    model.fit(X_offer_tr, y_offer_tr, X_manual_tr, y_manual_tr)\n",
    "    \n",
    "    predictions_manual = model.predict(X_manual_vl)\n",
    "    metrics = metrics_stat(y_manual_vl.values, predictions_manual)\n",
    "    predicts_arr.append(pd.DataFrame((X_manual_vl_id, predictions_manual), columns=['id', f'predict_{fold}']))\n",
    "    print(f'fold: {fold}, metrics {metrics}')\n",
    "    metrics_arr.append(metrics)\n",
    "    model.save(f\"model_bst_11_{fold}.bin\")"
   ]
  },
  {
   "cell_type": "code",
   "execution_count": null,
   "id": "43c0f5b7",
   "metadata": {},
   "outputs": [],
   "source": [
    "#%debug"
   ]
  },
  {
   "cell_type": "code",
   "execution_count": 22,
   "id": "07efc697",
   "metadata": {},
   "outputs": [
    {
     "data": {
      "text/plain": [
       "1.271377306064816"
      ]
     },
     "execution_count": 22,
     "metadata": {},
     "output_type": "execute_result"
    }
   ],
   "source": [
    "np.mean([e['raif_metric'] for e in metrics_arr])"
   ]
  },
  {
   "cell_type": "code",
   "execution_count": 23,
   "id": "63173e4a",
   "metadata": {},
   "outputs": [],
   "source": [
    "# Local\n",
    "# 1.271377306064816"
   ]
  },
  {
   "cell_type": "code",
   "execution_count": 32,
   "id": "e459b9e0",
   "metadata": {},
   "outputs": [],
   "source": [
    "# LB\n",
    "# 1.2813760234840204"
   ]
  },
  {
   "cell_type": "code",
   "execution_count": 25,
   "id": "73bac09c",
   "metadata": {},
   "outputs": [],
   "source": [
    "test_df = pd.read_csv(test_path)\n",
    "test_df['month'] = pd.to_datetime(test_df['date']).dt.month\n",
    "test_df['month_num'] = pd.to_datetime(test_df['date']).dt.month\n",
    "test_df = correct_floor(test_df)\n",
    "pred_df = prepare_categorical(test_df)[NUM_FEATURES+CATEGORICAL_OHE_FEATURES+CATEGORICAL_STE_FEATURES]"
   ]
  },
  {
   "cell_type": "code",
   "execution_count": 29,
   "id": "cd7ef81b",
   "metadata": {},
   "outputs": [],
   "source": [
    "pred = 0\n",
    "\n",
    "for ifold in range(FOLDS):\n",
    "    model = CoeffBoostingModel(numerical_features=NUM_FEATURES, ohe_categorical_features=CATEGORICAL_OHE_FEATURES,\n",
    "                          ste_categorical_features=CATEGORICAL_STE_FEATURES, model_params=MODEL_PARAMS)\n",
    "    model = model.load(f\"model_bst_11_{fold}.bin\")\n",
    "    y_score = model.predict(pred_df)\n",
    "    pred += y_score / FOLDS\n",
    "test_sub = pd.read_csv(test_path)[['id']]\n",
    "test_sub[TARGET] = pred\n",
    "test_sub.to_csv('boots_folds_11.csv', index=False)"
   ]
  },
  {
   "cell_type": "code",
   "execution_count": 30,
   "id": "dfde0530",
   "metadata": {},
   "outputs": [
    {
     "data": {
      "text/plain": [
       "348487.2097919893"
      ]
     },
     "execution_count": 30,
     "metadata": {},
     "output_type": "execute_result"
    }
   ],
   "source": [
    "test_sub['per_square_meter_price'].max()"
   ]
  },
  {
   "cell_type": "code",
   "execution_count": 31,
   "id": "dad36df1",
   "metadata": {},
   "outputs": [
    {
     "data": {
      "text/plain": [
       "22719.49835422013"
      ]
     },
     "execution_count": 31,
     "metadata": {},
     "output_type": "execute_result"
    }
   ],
   "source": [
    "test_sub['per_square_meter_price'].min()"
   ]
  },
  {
   "cell_type": "code",
   "execution_count": null,
   "id": "12f085db",
   "metadata": {},
   "outputs": [],
   "source": []
  }
 ],
 "metadata": {
  "kernelspec": {
   "display_name": "Python 3 (ipykernel)",
   "language": "python",
   "name": "python3"
  },
  "language_info": {
   "codemirror_mode": {
    "name": "ipython",
    "version": 3
   },
   "file_extension": ".py",
   "mimetype": "text/x-python",
   "name": "python",
   "nbconvert_exporter": "python",
   "pygments_lexer": "ipython3",
   "version": "3.8.9"
  }
 },
 "nbformat": 4,
 "nbformat_minor": 5
}
