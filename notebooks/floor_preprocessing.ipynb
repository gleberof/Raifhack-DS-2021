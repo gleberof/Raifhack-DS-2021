{
 "cells": [
  {
   "cell_type": "code",
   "execution_count": 103,
   "id": "bb67542f",
   "metadata": {},
   "outputs": [],
   "source": [
    "import pandas as pd\n",
    "import numpy as np"
   ]
  },
  {
   "cell_type": "code",
   "execution_count": 104,
   "id": "28dcdbad",
   "metadata": {},
   "outputs": [
    {
     "name": "stderr",
     "output_type": "stream",
     "text": [
      "/home/muxail/.cache/pypoetry/virtualenvs/raif-hack-rVtTtMQz-py3.8/lib/python3.8/site-packages/IPython/core/interactiveshell.py:3441: DtypeWarning: Columns (1) have mixed types.Specify dtype option on import or set low_memory=False.\n",
      "  exec(code_obj, self.user_global_ns, self.user_ns)\n"
     ]
    }
   ],
   "source": [
    "train = pd.read_csv('../data/train.csv')\n",
    "test = pd.read_csv('../data/test.csv')"
   ]
  },
  {
   "cell_type": "code",
   "execution_count": 105,
   "id": "8d51f0f3",
   "metadata": {},
   "outputs": [],
   "source": [
    "df = pd.concat([train, test])"
   ]
  },
  {
   "cell_type": "code",
   "execution_count": 106,
   "id": "725bc20c",
   "metadata": {},
   "outputs": [],
   "source": [
    "def get_floor(x):\n",
    "    try:\n",
    "        x = float(x)\n",
    "        if np.isnan(x):\n",
    "            return 'NAN'\n",
    "        else:\n",
    "            x = str(int(x))\n",
    "            return x\n",
    "    except ValueError:\n",
    "        if ',' in x:\n",
    "            splitted_row = x.split(',')\n",
    "            new_row = []\n",
    "            for word in splitted_row:\n",
    "                if ' ' in word:\n",
    "                    new_row.append(word.replace(' ', ''))\n",
    "                new_row.append(word)\n",
    "            x = ' '.join(new_row)\n",
    "        x = x.replace('  ', ' ').lower()\n",
    "        dict_replace = {\n",
    "            'подвал 1 1': '-1 1',\n",
    "            'подвал': '-1',\n",
    "            'цоколь 1 1': '-2 1',\n",
    "            '1 2 антресоль': '1 2 +1',\n",
    "            'цоколь': '-2',\n",
    "            'тех.этаж (6)': '+2',\n",
    "            'фактически на уровне 1 этажа': '1',\n",
    "            '1 2 3': '1 2 3', \n",
    "            '1 подвал подвал': '-1 1',\n",
    "            '1 2 3 4': '1 2 3 4', \n",
    "            '1 2': '1 2',\n",
    "            '1 2 3 4 5': '1 2 3 4 5', \n",
    "            '5 мансарда мансарда': '5 +3',\n",
    "            '1-й подвал подвал': '-1 1', \n",
    "            '1 подвал подвал антресоль антресоль': '-1 1 +1',\n",
    "            'мезонин': 'NAN', \n",
    "            'подвал 1-3 1-3': '-1 1 2 3', \n",
    "            '1 (цокольный этаж)': '-2 1',\n",
    "            '3 мансарда(4эт) мансарда (4 эт)': '3 +3',\n",
    "            'подвал 1': '-1 1',\n",
    "            '1 антресоль антресоль': '1 +1', \n",
    "            '1-3': '1 2 3',\n",
    "            'мансарда (4эт)': '4 +3', \n",
    "            '1 2. 2.': '1 2',\n",
    "            'подвал подвал 1 1 ': '-1 1', \n",
    "            '1 2 2': '1 2', \n",
    "            'подвал 1 1 2 3': '-1 1 2 3',\n",
    "            '1 + подвал (без отделки)': '-1 1', \n",
    "            'мансарда': '+3', \n",
    "            '2 3': '2 3', \n",
    "            '4 5 5': '4 5',\n",
    "            '1-й 2-й 2-й': '1 2',\n",
    "            '1этаж 1 этаж подвал подвал': '-1 1',\n",
    "            '1 цоколь цоколь': '-2 1',\n",
    "            'подвал 1-7 1-7 техэтаж техэтаж': '-1 1 2 3 4 5 6 7 +4', \n",
    "            '3 (антресоль)': '3 +1', \n",
    "            '1 2 2 3 3': '1 2 3',\n",
    "            'цоколь 1 1 2(мансарда)': '-2 1 2 +3',\n",
    "            'подвал 3.4этаж 3. 4 этаж': '-1 3 4',\n",
    "            'подвал 1-4этаж 1-4 этаж': '-1 1 2 3 4', \n",
    "            'подва 1.2этаж 1.2 этаж': '-1 1 2', \n",
    "            '2 3 3': '2 3',\n",
    "            '7 8': '7 8', \n",
    "            '1 этаж': '1',\n",
    "            '1-й': '1', \n",
    "            '3 этаж': '3',\n",
    "            '4 этаж': '4', \n",
    "            '5 этаж': '5',\n",
    "            'подвал 1 2 3 4 5': '-1 1 2 3 4 5', \n",
    "            'подвал цоколь цоколь 1этаж 1 этаж': '-2 1',\n",
    "            '3 мансарда мансарда': '3 +3', \n",
    "            'цоколь 1 1 2 2 3 4 5 6': '-2 1 2 3 4 5 6',\n",
    "            '1 1 2 2 антресоль антресоль': '1 2 +1',\n",
    "            '3этаж 3 этаж мансарда(4этаж) мансарда (4 этаж)': '3 4 +3',\n",
    "            'цокольный': '-2',\n",
    "            '1 2 2 ': '1 2', \n",
    "            '3 4': '3 4', \n",
    "            'подвал 1и4этаж 1 и 4 этаж': '-1 1 4', \n",
    "            '5(мансарда)': '5 +3',\n",
    "            'техническийэтаж технический этаж 5 6': '+4 5 6',\n",
    "            '1-2 1-2 подвальный подвальный': '-1 1 2', \n",
    "            '1 2 2 3 3 мансардный мансардный': '1 2 3 +3',\n",
    "            'подвал 1 1 2 2 3 3': '-1 1 2 3',\n",
    "            '1 2 3 антресоль антресоль техническийэтаж технический этаж': '1 2 3 +1 +4',\n",
    "            '3 4 4': '3 4',\n",
    "            '1-3этажи 1-3 этажи цоколь(188 цоколь (188 4кв.м) 4 кв.м) подвал(104кв.м) подвал (104 кв.м)': '-2 -1 1 2 3',\n",
    "            '1 2 3 4 подвал подвал': '-1 1 2 3', \n",
    "            '2-й': '2',\n",
    "            '1 2этаж 2 этаж': '1 2',\n",
    "            'подвал 1 1 2 2': '-1 1 2',\n",
    "            '1-7': '1 2 3 4 5 6 7', \n",
    "            '1 (по док-м цоколь)': '-2', \n",
    "            '1 2 подвал подвал ': '-1 1 2', \n",
    "            'подвал 2 2': '-1 2',\n",
    "            'подвал 1 2 3': '-1 1 2 3', \n",
    "            '1 2 3этаж 3 этаж подвал подвал': '-1 1 2 3',\n",
    "            '2 3 3 4 4 тех.этаж тех.этаж': '2 3 4 +4', \n",
    "            'цокольный 1 1 2': '-2 1 2',\n",
    "            'техническое подполье': '-1'\n",
    "        }\n",
    "        return dict_replace.get(x, 'nasnsadnasdasd')"
   ]
  },
  {
   "cell_type": "code",
   "execution_count": 107,
   "id": "e75e0cdf",
   "metadata": {},
   "outputs": [],
   "source": [
    "from sklearn.feature_extraction.text import CountVectorizer"
   ]
  },
  {
   "cell_type": "code",
   "execution_count": 108,
   "id": "4b917aa2",
   "metadata": {},
   "outputs": [
    {
     "data": {
      "text/plain": [
       "CountVectorizer(min_df=50)"
      ]
     },
     "execution_count": 108,
     "metadata": {},
     "output_type": "execute_result"
    }
   ],
   "source": [
    "countvectorizer = CountVectorizer(min_df=50)\n",
    "countvectorizer.fit(df['floor'].apply(get_floor).to_list())"
   ]
  },
  {
   "cell_type": "code",
   "execution_count": 109,
   "id": "467e0ec5",
   "metadata": {},
   "outputs": [],
   "source": [
    "floors = pd.DataFrame(\n",
    "    countvectorizer.transform(df['floor'].apply(get_floor).to_list()).A, \n",
    "    columns=[f\"floor_{i}\" for i in range(len(countvectorizer.vocabulary_))]\n",
    ")\n",
    "\n",
    "floors['id'] = df['id'].values"
   ]
  },
  {
   "cell_type": "code",
   "execution_count": 110,
   "id": "26775444",
   "metadata": {},
   "outputs": [],
   "source": [
    "floors.to_csv('../data/floors.csv', index=False)"
   ]
  },
  {
   "cell_type": "code",
   "execution_count": null,
   "id": "84df3893",
   "metadata": {},
   "outputs": [],
   "source": []
  }
 ],
 "metadata": {
  "kernelspec": {
   "display_name": "Python 3 (ipykernel)",
   "language": "python",
   "name": "python3"
  },
  "language_info": {
   "codemirror_mode": {
    "name": "ipython",
    "version": 3
   },
   "file_extension": ".py",
   "mimetype": "text/x-python",
   "name": "python",
   "nbconvert_exporter": "python",
   "pygments_lexer": "ipython3",
   "version": "3.8.9"
  }
 },
 "nbformat": 4,
 "nbformat_minor": 5
}
