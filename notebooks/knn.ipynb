{
 "cells": [
  {
   "cell_type": "code",
   "execution_count": 1,
   "id": "d91d57d5",
   "metadata": {},
   "outputs": [],
   "source": [
    "from raif_hack.settings import TRAIN_PATH, TARGET, CATEGORICAL_OHE_FEATURES, NUM_FEATURES, TEST_PATH\n",
    "from raif_hack.data import get_preprocessor\n",
    "\n",
    "import numpy as np\n",
    "import pandas as pd"
   ]
  },
  {
   "cell_type": "code",
   "execution_count": 2,
   "id": "b31d4461",
   "metadata": {},
   "outputs": [
    {
     "name": "stderr",
     "output_type": "stream",
     "text": [
      "/home/dan/.cache/pypoetry/virtualenvs/raif-hack-CMOGU8AW-py3.8/lib/python3.8/site-packages/IPython/core/interactiveshell.py:3441: DtypeWarning: Columns (1) have mixed types.Specify dtype option on import or set low_memory=False.\n",
      "  exec(code_obj, self.user_global_ns, self.user_ns)\n"
     ]
    }
   ],
   "source": [
    "train = pd.read_csv(str(TRAIN_PATH))"
   ]
  },
  {
   "cell_type": "code",
   "execution_count": 3,
   "id": "ce105655",
   "metadata": {},
   "outputs": [],
   "source": [
    "train[\"date\"] = pd.to_datetime(train[\"date\"])"
   ]
  },
  {
   "cell_type": "code",
   "execution_count": 4,
   "id": "772c9087",
   "metadata": {},
   "outputs": [],
   "source": [
    "numeric_features = train[NUM_FEATURES].std().sort_values(ascending=False).index.tolist()[:50]"
   ]
  },
  {
   "cell_type": "code",
   "execution_count": 5,
   "id": "f40e36d5",
   "metadata": {},
   "outputs": [
    {
     "data": {
      "text/plain": [
       "50"
      ]
     },
     "execution_count": 5,
     "metadata": {},
     "output_type": "execute_result"
    }
   ],
   "source": [
    "len(numeric_features)"
   ]
  },
  {
   "cell_type": "code",
   "execution_count": null,
   "id": "c0758d8c",
   "metadata": {},
   "outputs": [],
   "source": []
  },
  {
   "cell_type": "code",
   "execution_count": 6,
   "id": "bfea092c",
   "metadata": {},
   "outputs": [],
   "source": [
    "train = train.sort_values(\"date\")"
   ]
  },
  {
   "cell_type": "code",
   "execution_count": 7,
   "id": "e449bb4a",
   "metadata": {},
   "outputs": [],
   "source": [
    "train_all = train.copy()\n",
    "y_all = train[TARGET].values"
   ]
  },
  {
   "cell_type": "code",
   "execution_count": 8,
   "id": "4ebb1ead",
   "metadata": {},
   "outputs": [],
   "source": [
    "from datetime import datetime"
   ]
  },
  {
   "cell_type": "code",
   "execution_count": 9,
   "id": "5e354329",
   "metadata": {},
   "outputs": [],
   "source": [
    "test = train[train[\"date\"] >= datetime(2020, 8, 1)].reset_index()\n",
    "train = train[train[\"date\"] < datetime(2020, 8, 1)].reset_index()"
   ]
  },
  {
   "cell_type": "code",
   "execution_count": 10,
   "id": "545cd89b",
   "metadata": {},
   "outputs": [],
   "source": [
    "test = test[test[\"price_type\"] == 1].reset_index()"
   ]
  },
  {
   "cell_type": "code",
   "execution_count": 11,
   "id": "f7634e06",
   "metadata": {},
   "outputs": [],
   "source": [
    "x_train = train[CATEGORICAL_OHE_FEATURES + numeric_features]\n",
    "y_train = train[TARGET].values\n",
    "\n",
    "x_test = train[CATEGORICAL_OHE_FEATURES + numeric_features]\n",
    "y_test = train[TARGET].values"
   ]
  },
  {
   "cell_type": "code",
   "execution_count": 12,
   "id": "a5be498f",
   "metadata": {},
   "outputs": [],
   "source": [
    "preproc = get_preprocessor(numeric_features=numeric_features)"
   ]
  },
  {
   "cell_type": "code",
   "execution_count": 13,
   "id": "907d6b17",
   "metadata": {},
   "outputs": [],
   "source": [
    "from sklearn.neighbors import NearestNeighbors\n",
    "from sklearn.pipeline import Pipeline"
   ]
  },
  {
   "cell_type": "code",
   "execution_count": null,
   "id": "523c1b49",
   "metadata": {},
   "outputs": [],
   "source": []
  },
  {
   "cell_type": "code",
   "execution_count": 14,
   "id": "2a212121",
   "metadata": {},
   "outputs": [],
   "source": [
    "import faiss\n",
    "\n",
    "\n",
    "class FaissKNeighbors:\n",
    "    def __init__(self, k=5):\n",
    "        self.index = None\n",
    "        self.k = k\n",
    "\n",
    "    def fit(self, X):\n",
    "        self.index = faiss.IndexFlatL2(X.shape[1])\n",
    "        self.index.add(X.astype(np.float32))\n",
    "\n",
    "    def predict(self, X):\n",
    "        distances, indices = self.index.search(X.astype(np.float32), k=self.k)\n",
    "        return distances, indices"
   ]
  },
  {
   "cell_type": "code",
   "execution_count": 15,
   "id": "c4013783",
   "metadata": {},
   "outputs": [
    {
     "name": "stderr",
     "output_type": "stream",
     "text": [
      "/home/dan/.cache/pypoetry/virtualenvs/raif-hack-CMOGU8AW-py3.8/lib/python3.8/site-packages/sklearn/preprocessing/_function_transformer.py:137: UserWarning: The provided functions are not strictly inverse of each other. If you are sure you want to proceed regardless, set 'check_inverse=False'.\n",
      "  warnings.warn(\n"
     ]
    },
    {
     "name": "stdout",
     "output_type": "stream",
     "text": [
      "CPU times: user 2.2 s, sys: 331 ms, total: 2.53 s\n",
      "Wall time: 2.53 s\n"
     ]
    }
   ],
   "source": [
    "%%time\n",
    "\n",
    "preproc = preproc.fit(x_train)"
   ]
  },
  {
   "cell_type": "code",
   "execution_count": 16,
   "id": "776dc66f",
   "metadata": {},
   "outputs": [],
   "source": [
    "inference = pd.read_csv(TEST_PATH)\n",
    "inference = np.ascontiguousarray(preproc.transform(inference))"
   ]
  },
  {
   "cell_type": "code",
   "execution_count": 17,
   "id": "ae94420e",
   "metadata": {},
   "outputs": [],
   "source": [
    "x_train = np.ascontiguousarray(preproc.transform(x_train))\n",
    "x_test = np.ascontiguousarray(preproc.transform(x_test))\n",
    "train_all = np.ascontiguousarray(preproc.transform(train_all))"
   ]
  },
  {
   "cell_type": "code",
   "execution_count": null,
   "id": "9ab91a63",
   "metadata": {},
   "outputs": [],
   "source": []
  },
  {
   "cell_type": "code",
   "execution_count": 18,
   "id": "23b2bf77",
   "metadata": {},
   "outputs": [
    {
     "name": "stdout",
     "output_type": "stream",
     "text": [
      "CPU times: user 34.6 ms, sys: 16.9 ms, total: 51.5 ms\n",
      "Wall time: 49.9 ms\n"
     ]
    }
   ],
   "source": [
    "%%time\n",
    "\n",
    "model = FaissKNeighbors(k=2)\n",
    "model.fit(x_train)"
   ]
  },
  {
   "cell_type": "code",
   "execution_count": null,
   "id": "5fbc1e54",
   "metadata": {},
   "outputs": [],
   "source": [
    "%%time\n",
    "\n",
    "distances, neighbors = model.predict(x_test)"
   ]
  },
  {
   "cell_type": "code",
   "execution_count": null,
   "id": "c3bc9640",
   "metadata": {},
   "outputs": [],
   "source": [
    "from numba import njit\n",
    "\n",
    "@njit\n",
    "def predict_knn(neighbors, known_targets):    \n",
    "    predictions = []\n",
    "    for k_neighbors in neighbors:\n",
    "        predictions.append(known_targets[k_neighbors].mean().item())\n",
    "        \n",
    "    return np.array(predictions)"
   ]
  },
  {
   "cell_type": "code",
   "execution_count": null,
   "id": "1995aec9",
   "metadata": {},
   "outputs": [],
   "source": []
  },
  {
   "cell_type": "code",
   "execution_count": null,
   "id": "c7b76cd9",
   "metadata": {},
   "outputs": [],
   "source": [
    "%%time\n",
    "\n",
    "predictions = predict_knn(neighbors, y_test)"
   ]
  },
  {
   "cell_type": "code",
   "execution_count": null,
   "id": "53d022c0",
   "metadata": {},
   "outputs": [],
   "source": [
    "from raif_hack.metrics import deviation_metric"
   ]
  },
  {
   "cell_type": "code",
   "execution_count": null,
   "id": "fa905b01",
   "metadata": {},
   "outputs": [],
   "source": [
    "deviation_metric(y_test, predictions)"
   ]
  },
  {
   "cell_type": "code",
   "execution_count": null,
   "id": "186adfe1",
   "metadata": {},
   "outputs": [],
   "source": [
    "%%time\n",
    "\n",
    "model = FaissKNeighbors(k=2)\n",
    "model.fit(train_all)"
   ]
  },
  {
   "cell_type": "code",
   "execution_count": null,
   "id": "393aa8e8",
   "metadata": {},
   "outputs": [],
   "source": [
    "%%time\n",
    "\n",
    "distances, neighbors = model.predict(inference)"
   ]
  },
  {
   "cell_type": "code",
   "execution_count": null,
   "id": "c73cbf49",
   "metadata": {},
   "outputs": [],
   "source": [
    "%%time\n",
    "\n",
    "predictions = predict_knn(neighbors, y_all)"
   ]
  },
  {
   "cell_type": "code",
   "execution_count": null,
   "id": "bdea17c0",
   "metadata": {},
   "outputs": [],
   "source": [
    "inference = pd.read_csv(TEST_PATH)"
   ]
  },
  {
   "cell_type": "code",
   "execution_count": null,
   "id": "b3365631",
   "metadata": {},
   "outputs": [],
   "source": [
    "inference.shape"
   ]
  },
  {
   "cell_type": "code",
   "execution_count": null,
   "id": "8fbd9878",
   "metadata": {},
   "outputs": [],
   "source": [
    "predictions.shape"
   ]
  },
  {
   "cell_type": "code",
   "execution_count": null,
   "id": "c568ddf2",
   "metadata": {},
   "outputs": [],
   "source": [
    "preds = pd.DataFrame({\n",
    "    \"id\": inference[\"id\"].values,\n",
    "    \"per_square_meter_price\": predictions\n",
    "})"
   ]
  },
  {
   "cell_type": "code",
   "execution_count": null,
   "id": "e3adcef9",
   "metadata": {},
   "outputs": [],
   "source": [
    "sample_submission = pd.read_csv(\"../data/test_submission.csv\")[[\"id\"]]"
   ]
  },
  {
   "cell_type": "code",
   "execution_count": null,
   "id": "17e39f1f",
   "metadata": {},
   "outputs": [],
   "source": [
    "sample_submission = sample_submission.merge(preds[[\"id\", \"per_square_meter_price\"]], on=\"id\", how=\"left\")"
   ]
  },
  {
   "cell_type": "code",
   "execution_count": null,
   "id": "24f80322",
   "metadata": {},
   "outputs": [],
   "source": [
    "sample_submission.to_csv(\"submission.csv\", index=False)"
   ]
  },
  {
   "cell_type": "code",
   "execution_count": null,
   "id": "3822bc59",
   "metadata": {},
   "outputs": [],
   "source": []
  },
  {
   "cell_type": "code",
   "execution_count": null,
   "id": "35b047aa",
   "metadata": {},
   "outputs": [],
   "source": []
  }
 ],
 "metadata": {
  "kernelspec": {
   "display_name": "Python 3 (ipykernel)",
   "language": "python",
   "name": "python3"
  },
  "language_info": {
   "codemirror_mode": {
    "name": "ipython",
    "version": 3
   },
   "file_extension": ".py",
   "mimetype": "text/x-python",
   "name": "python",
   "nbconvert_exporter": "python",
   "pygments_lexer": "ipython3",
   "version": "3.8.9"
  }
 },
 "nbformat": 4,
 "nbformat_minor": 5
}
