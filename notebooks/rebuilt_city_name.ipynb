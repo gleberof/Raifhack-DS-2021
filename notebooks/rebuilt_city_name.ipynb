{
 "cells": [
  {
   "cell_type": "code",
   "execution_count": 1,
   "id": "d699edd1",
   "metadata": {},
   "outputs": [],
   "source": [
    "import pandas as pd\n",
    "import numpy as np\n",
    "import json"
   ]
  },
  {
   "cell_type": "markdown",
   "id": "c5d2a1e2",
   "metadata": {},
   "source": [
    "## Восстановление названий городов через координаты"
   ]
  },
  {
   "cell_type": "markdown",
   "id": "8d754e5c",
   "metadata": {},
   "source": [
    "## Вычисление расстояний до центров городов / до центров столиц регионов"
   ]
  },
  {
   "cell_type": "code",
   "execution_count": 2,
   "id": "a968525c",
   "metadata": {},
   "outputs": [],
   "source": [
    "with open('../data/russian-cities.json', 'r') as json_file:\n",
    "    cities_data = json.load(json_file)\n",
    "\n",
    "cities_data = [\n",
    "    [\n",
    "        city_dict['name'], \n",
    "        city_dict['subject'],\n",
    "        city_dict['district'],\n",
    "        city_dict['population'],\n",
    "        city_dict['coords']['lat'],\n",
    "        city_dict['coords']['lon']\n",
    "    ] for city_dict in cities_data\n",
    "]\n",
    "\n",
    "cities_data = pd.DataFrame(\n",
    "    cities_data, \n",
    "    columns=[\n",
    "        'city_name', 'rf_subject', 'rf_district', \n",
    "        'city_population', \n",
    "        'city_lat', 'city_lon'\n",
    "    ]\n",
    ")\n",
    "\n",
    "cities_data.loc[cities_data['city_name'] == 'Орёл', 'city_name'] = 'Орел'\n",
    "cities_data.loc[cities_data['city_name'] == 'Великий Новгород', 'city_name'] = 'Новгород'\n",
    "\n",
    "mapping_idx_to_city_name = cities_data['city_name'].to_dict()"
   ]
  },
  {
   "cell_type": "code",
   "execution_count": null,
   "id": "581011a6",
   "metadata": {},
   "outputs": [],
   "source": []
  },
  {
   "cell_type": "code",
   "execution_count": 3,
   "id": "8dbe57f6",
   "metadata": {},
   "outputs": [],
   "source": [
    "with open('../data/rf_subjects.txt', 'r') as txt_file:\n",
    "    rf_subjects = txt_file.readlines()\n",
    "    \n",
    "rf_subjects = [\n",
    "    row.split('\\t') for row in rf_subjects[1:-3]\n",
    "]\n",
    "rf_subjects = [\n",
    "    row[2:] for row in rf_subjects\n",
    "]\n",
    "rf_subjects = pd.DataFrame(rf_subjects, columns=['subject', 'capital'])\n",
    "rf_subjects['capital'] = rf_subjects['capital'].apply(lambda x: x.split('г. ')[-1][:-1])\n",
    "\n",
    "rf_subjects = pd.merge(\n",
    "    rf_subjects,\n",
    "    cities_data[['city_name', 'city_lat', 'city_lon']],\n",
    "    left_on=['capital'],\n",
    "    right_on=['city_name'],\n",
    "    how='left'\n",
    ").drop(columns=['city_name'])\n",
    "\n",
    "mapping_idx_to_capital_name = rf_subjects['capital'].to_dict()"
   ]
  },
  {
   "cell_type": "code",
   "execution_count": null,
   "id": "3933af5a",
   "metadata": {},
   "outputs": [],
   "source": []
  },
  {
   "cell_type": "code",
   "execution_count": null,
   "id": "9a7209c5",
   "metadata": {},
   "outputs": [],
   "source": []
  },
  {
   "cell_type": "code",
   "execution_count": 4,
   "id": "be1f83c0",
   "metadata": {},
   "outputs": [],
   "source": [
    "from sklearn.neighbors import KDTree\n",
    "\n",
    "kdtree_city = KDTree(\n",
    "    cities_data[['city_lat', 'city_lon']].values, \n",
    "    metric='euclidean'\n",
    ")\n",
    "\n",
    "kdtree_capital = KDTree(\n",
    "    rf_subjects[['city_lat', 'city_lon']].values, \n",
    "    metric='euclidean'\n",
    ")"
   ]
  },
  {
   "cell_type": "code",
   "execution_count": 5,
   "id": "27dc4c9b",
   "metadata": {},
   "outputs": [
    {
     "name": "stderr",
     "output_type": "stream",
     "text": [
      "/home/muxail/.cache/pypoetry/virtualenvs/raif-hack-rVtTtMQz-py3.8/lib/python3.8/site-packages/IPython/core/interactiveshell.py:3441: DtypeWarning: Columns (1) have mixed types.Specify dtype option on import or set low_memory=False.\n",
      "  exec(code_obj, self.user_global_ns, self.user_ns)\n"
     ]
    }
   ],
   "source": [
    "train = pd.read_csv('../data/train.csv')"
   ]
  },
  {
   "cell_type": "code",
   "execution_count": 6,
   "id": "97e20f8a",
   "metadata": {},
   "outputs": [],
   "source": [
    "query = train[['lat', 'lng']].values\n",
    "\n",
    "city_distances, city_indicies = kdtree_city.query(query)\n",
    "capital_distances, capital_indicies = kdtree_capital.query(query)"
   ]
  },
  {
   "cell_type": "code",
   "execution_count": 7,
   "id": "ffb6b374",
   "metadata": {},
   "outputs": [],
   "source": [
    "train['rebuilt_city_name'] = [mapping_idx_to_city_name[idx[0]] for idx in city_indicies]\n",
    "train['distance_to_city_center'] = city_distances\n",
    "train['rebuilt_capital_name'] = [mapping_idx_to_capital_name[idx[0]] for idx in capital_indicies]\n",
    "train['distance_to_capital_center'] = capital_distances"
   ]
  },
  {
   "cell_type": "code",
   "execution_count": 17,
   "id": "25b8b9f8",
   "metadata": {},
   "outputs": [],
   "source": [
    "train = pd.merge(\n",
    "    train,\n",
    "    cities_data[['city_name', 'rf_subject', 'rf_district', 'city_population']],\n",
    "    left_on=['rebuilt_city_name'],\n",
    "    right_on=['city_name'],\n",
    "    how='left'\n",
    ").drop(columns=['city_name'])"
   ]
  },
  {
   "cell_type": "code",
   "execution_count": 19,
   "id": "4ca77775",
   "metadata": {},
   "outputs": [],
   "source": [
    "test = pd.read_csv('../data/test.csv')"
   ]
  },
  {
   "cell_type": "code",
   "execution_count": 20,
   "id": "b1f47532",
   "metadata": {},
   "outputs": [],
   "source": [
    "query = test[['lat', 'lng']].values\n",
    "\n",
    "city_distances, city_indicies = kdtree_city.query(query)\n",
    "capital_distances, capital_indicies = kdtree_capital.query(query)"
   ]
  },
  {
   "cell_type": "code",
   "execution_count": 21,
   "id": "4d14cbe9",
   "metadata": {},
   "outputs": [],
   "source": [
    "test['rebuilt_city_name'] = [mapping_idx_to_city_name[idx[0]] for idx in city_indicies]\n",
    "test['distance_to_city_center'] = city_distances\n",
    "test['rebuilt_capital_name'] = [mapping_idx_to_capital_name[idx[0]] for idx in capital_indicies]\n",
    "test['distance_to_capital_center'] = capital_distances"
   ]
  },
  {
   "cell_type": "code",
   "execution_count": 22,
   "id": "c21d92fa",
   "metadata": {},
   "outputs": [],
   "source": [
    "test = pd.merge(\n",
    "    test,\n",
    "    cities_data[['city_name', 'rf_subject', 'rf_district', 'city_population']],\n",
    "    left_on=['rebuilt_city_name'],\n",
    "    right_on=['city_name'],\n",
    "    how='left'\n",
    ").drop(columns=['city_name'])"
   ]
  }
 ],
 "metadata": {
  "kernelspec": {
   "display_name": "Python 3 (ipykernel)",
   "language": "python",
   "name": "python3"
  },
  "language_info": {
   "codemirror_mode": {
    "name": "ipython",
    "version": 3
   },
   "file_extension": ".py",
   "mimetype": "text/x-python",
   "name": "python",
   "nbconvert_exporter": "python",
   "pygments_lexer": "ipython3",
   "version": "3.8.9"
  }
 },
 "nbformat": 4,
 "nbformat_minor": 5
}
