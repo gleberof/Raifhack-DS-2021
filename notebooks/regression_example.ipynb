{
 "cells": [
  {
   "cell_type": "code",
   "execution_count": 2,
   "metadata": {},
   "outputs": [],
   "source": [
    "from pytorch_tabnet.tab_model import TabNetRegressor\n",
    "\n",
    "import torch\n",
    "from sklearn.preprocessing import LabelEncoder\n",
    "from sklearn.metrics import mean_squared_error\n",
    "\n",
    "import pandas as pd\n",
    "import numpy as np\n",
    "np.random.seed(0)\n",
    "\n",
    "\n",
    "import os\n",
    "import wget\n",
    "from pathlib import Path"
   ]
  },
  {
   "cell_type": "markdown",
   "metadata": {},
   "source": [
    "# Download census-income dataset"
   ]
  },
  {
   "cell_type": "code",
   "execution_count": 3,
   "metadata": {},
   "outputs": [],
   "source": [
    "url = \"https://archive.ics.uci.edu/ml/machine-learning-databases/adult/adult.data\"\n",
    "dataset_name = 'census-income'\n",
    "out = Path(os.getcwd()+'/data/'+dataset_name+'.csv')"
   ]
  },
  {
   "cell_type": "code",
   "execution_count": 4,
   "metadata": {},
   "outputs": [
    {
     "name": "stdout",
     "output_type": "stream",
     "text": [
      "Downloading file...\n",
      "100% [.................................................] 3974305 / 3974305"
     ]
    }
   ],
   "source": [
    "out.parent.mkdir(parents=True, exist_ok=True)\n",
    "if out.exists():\n",
    "    print(\"File already exists.\")\n",
    "else:\n",
    "    print(\"Downloading file...\")\n",
    "    wget.download(url, out.as_posix())"
   ]
  },
  {
   "cell_type": "markdown",
   "metadata": {},
   "source": [
    "# Load data and split"
   ]
  },
  {
   "cell_type": "code",
   "execution_count": 5,
   "metadata": {},
   "outputs": [],
   "source": [
    "train = pd.read_csv(out)\n",
    "target = ' <=50K'\n",
    "if \"Set\" not in train.columns:\n",
    "    train[\"Set\"] = np.random.choice([\"train\", \"valid\", \"test\"], p =[.8, .1, .1], size=(train.shape[0],))\n",
    "\n",
    "train_indices = train[train.Set==\"train\"].index\n",
    "valid_indices = train[train.Set==\"valid\"].index\n",
    "test_indices = train[train.Set==\"test\"].index"
   ]
  },
  {
   "cell_type": "markdown",
   "metadata": {},
   "source": [
    "# Simple preprocessing\n",
    "\n",
    "Label encode categorical features and fill empty cells."
   ]
  },
  {
   "cell_type": "code",
   "execution_count": 6,
   "metadata": {},
   "outputs": [
    {
     "name": "stdout",
     "output_type": "stream",
     "text": [
      " State-gov 9\n",
      " Bachelors 16\n",
      " Never-married 7\n",
      " Adm-clerical 15\n",
      " Not-in-family 6\n",
      " White 5\n",
      " Male 2\n",
      " United-States 42\n",
      " <=50K 2\n",
      "Set 3\n"
     ]
    }
   ],
   "source": [
    "categorical_columns = []\n",
    "categorical_dims =  {}\n",
    "for col in train.columns[train.dtypes == object]:\n",
    "    print(col, train[col].nunique())\n",
    "    l_enc = LabelEncoder()\n",
    "    train[col] = train[col].fillna(\"VV_likely\")\n",
    "    train[col] = l_enc.fit_transform(train[col].values)\n",
    "    categorical_columns.append(col)\n",
    "    categorical_dims[col] = len(l_enc.classes_)\n",
    "\n",
    "for col in train.columns[train.dtypes == 'float64']:\n",
    "    train.fillna(train.loc[train_indices, col].mean(), inplace=True)"
   ]
  },
  {
   "cell_type": "markdown",
   "metadata": {},
   "source": [
    "# Define categorical features for categorical embeddings"
   ]
  },
  {
   "cell_type": "code",
   "execution_count": 7,
   "metadata": {},
   "outputs": [],
   "source": [
    "unused_feat = ['Set']\n",
    "\n",
    "features = [ col for col in train.columns if col not in unused_feat+[target]] \n",
    "\n",
    "cat_idxs = [ i for i, f in enumerate(features) if f in categorical_columns]\n",
    "\n",
    "cat_dims = [ categorical_dims[f] for i, f in enumerate(features) if f in categorical_columns]\n",
    "\n",
    "# define your embedding sizes : here just a random choice\n",
    "cat_emb_dim = [5, 4, 3, 6, 2, 2, 1, 10]"
   ]
  },
  {
   "cell_type": "markdown",
   "metadata": {},
   "source": [
    "# Network parameters"
   ]
  },
  {
   "cell_type": "code",
   "execution_count": 8,
   "metadata": {},
   "outputs": [
    {
     "name": "stdout",
     "output_type": "stream",
     "text": [
      "Device used : cuda\n"
     ]
    }
   ],
   "source": [
    "clf = TabNetRegressor(cat_dims=cat_dims, cat_emb_dim=cat_emb_dim, cat_idxs=cat_idxs)"
   ]
  },
  {
   "cell_type": "markdown",
   "metadata": {},
   "source": [
    "# Training"
   ]
  },
  {
   "cell_type": "code",
   "execution_count": 9,
   "metadata": {},
   "outputs": [],
   "source": [
    "X_train = train[features].values[train_indices]\n",
    "y_train = train[target].values[train_indices].reshape(-1, 1)\n",
    "\n",
    "X_valid = train[features].values[valid_indices]\n",
    "y_valid = train[target].values[valid_indices].reshape(-1, 1)\n",
    "\n",
    "X_test = train[features].values[test_indices]\n",
    "y_test = train[target].values[test_indices].reshape(-1, 1)"
   ]
  },
  {
   "cell_type": "code",
   "execution_count": 23,
   "metadata": {},
   "outputs": [],
   "source": [
    "max_epochs = 10000 if not os.getenv(\"CI\", False) else 2"
   ]
  },
  {
   "cell_type": "code",
   "execution_count": 25,
   "metadata": {
    "scrolled": true
   },
   "outputs": [
    {
     "name": "stdout",
     "output_type": "stream",
     "text": [
      "epoch 0  | loss: 0.09506 | train_mse: 0.09194 | valid_mse: 0.09838 |  0:00:01s\n",
      "epoch 1  | loss: 0.09353 | train_mse: 0.09055 | valid_mse: 0.09798 |  0:00:03s\n",
      "epoch 2  | loss: 0.09278 | train_mse: 0.09435 | valid_mse: 0.10202 |  0:00:05s\n",
      "epoch 3  | loss: 0.09222 | train_mse: 0.08962 | valid_mse: 0.09863 |  0:00:07s\n",
      "epoch 4  | loss: 0.09238 | train_mse: 0.09121 | valid_mse: 0.09846 |  0:00:09s\n",
      "epoch 5  | loss: 0.09297 | train_mse: 0.0931  | valid_mse: 0.10041 |  0:00:11s\n",
      "epoch 6  | loss: 0.09225 | train_mse: 0.09039 | valid_mse: 0.09837 |  0:00:13s\n",
      "epoch 7  | loss: 0.09263 | train_mse: 0.09041 | valid_mse: 0.09907 |  0:00:15s\n",
      "epoch 8  | loss: 0.09372 | train_mse: 0.08955 | valid_mse: 0.09775 |  0:00:17s\n",
      "epoch 9  | loss: 0.09182 | train_mse: 0.09102 | valid_mse: 0.09824 |  0:00:19s\n",
      "epoch 10 | loss: 0.09252 | train_mse: 0.09094 | valid_mse: 0.10035 |  0:00:21s\n",
      "epoch 11 | loss: 0.09146 | train_mse: 0.08994 | valid_mse: 0.09924 |  0:00:22s\n",
      "epoch 12 | loss: 0.09209 | train_mse: 0.08905 | valid_mse: 0.09863 |  0:00:24s\n",
      "epoch 13 | loss: 0.0918  | train_mse: 0.09069 | valid_mse: 0.09885 |  0:00:26s\n",
      "epoch 14 | loss: 0.09187 | train_mse: 0.09291 | valid_mse: 0.1012  |  0:00:28s\n",
      "epoch 15 | loss: 0.09259 | train_mse: 0.08833 | valid_mse: 0.0994  |  0:00:30s\n",
      "epoch 16 | loss: 0.09096 | train_mse: 0.09031 | valid_mse: 0.09973 |  0:00:32s\n",
      "epoch 17 | loss: 0.09177 | train_mse: 0.09232 | valid_mse: 0.1014  |  0:00:34s\n",
      "epoch 18 | loss: 0.09206 | train_mse: 0.08893 | valid_mse: 0.09781 |  0:00:36s\n",
      "epoch 19 | loss: 0.09117 | train_mse: 0.08867 | valid_mse: 0.0986  |  0:00:38s\n",
      "epoch 20 | loss: 0.09225 | train_mse: 0.09167 | valid_mse: 0.09848 |  0:00:40s\n",
      "epoch 21 | loss: 0.09283 | train_mse: 0.08799 | valid_mse: 0.09795 |  0:00:42s\n",
      "epoch 22 | loss: 0.09098 | train_mse: 0.09064 | valid_mse: 0.10034 |  0:00:44s\n",
      "epoch 23 | loss: 0.09132 | train_mse: 0.08908 | valid_mse: 0.09893 |  0:00:45s\n",
      "epoch 24 | loss: 0.09184 | train_mse: 0.08811 | valid_mse: 0.09702 |  0:00:47s\n",
      "epoch 25 | loss: 0.09141 | train_mse: 0.08997 | valid_mse: 0.09908 |  0:00:49s\n",
      "epoch 26 | loss: 0.09102 | train_mse: 0.08944 | valid_mse: 0.09968 |  0:00:51s\n",
      "epoch 27 | loss: 0.09089 | train_mse: 0.08668 | valid_mse: 0.0979  |  0:00:53s\n",
      "epoch 28 | loss: 0.09029 | train_mse: 0.08859 | valid_mse: 0.0983  |  0:00:55s\n",
      "epoch 29 | loss: 0.09154 | train_mse: 0.08912 | valid_mse: 0.09937 |  0:00:57s\n",
      "epoch 30 | loss: 0.0908  | train_mse: 0.08999 | valid_mse: 0.09815 |  0:00:59s\n",
      "epoch 31 | loss: 0.09059 | train_mse: 0.09013 | valid_mse: 0.09975 |  0:01:01s\n",
      "epoch 32 | loss: 0.0974  | train_mse: 0.09819 | valid_mse: 0.10349 |  0:01:03s\n",
      "epoch 33 | loss: 0.09765 | train_mse: 0.09587 | valid_mse: 0.10153 |  0:01:05s\n",
      "epoch 34 | loss: 0.096   | train_mse: 0.09531 | valid_mse: 0.1003  |  0:01:07s\n",
      "epoch 35 | loss: 0.09438 | train_mse: 0.09456 | valid_mse: 0.10088 |  0:01:09s\n",
      "epoch 36 | loss: 0.09428 | train_mse: 0.09098 | valid_mse: 0.09883 |  0:01:11s\n",
      "epoch 37 | loss: 0.09447 | train_mse: 0.09049 | valid_mse: 0.09915 |  0:01:12s\n",
      "epoch 38 | loss: 0.09308 | train_mse: 0.09206 | valid_mse: 0.10027 |  0:01:14s\n",
      "epoch 39 | loss: 0.09228 | train_mse: 0.0894  | valid_mse: 0.09889 |  0:01:16s\n",
      "epoch 40 | loss: 0.09295 | train_mse: 0.08998 | valid_mse: 0.09881 |  0:01:18s\n",
      "epoch 41 | loss: 0.09263 | train_mse: 0.09138 | valid_mse: 0.10144 |  0:01:20s\n",
      "epoch 42 | loss: 0.09168 | train_mse: 0.09052 | valid_mse: 0.10032 |  0:01:22s\n",
      "epoch 43 | loss: 0.09103 | train_mse: 0.09128 | valid_mse: 0.10108 |  0:01:24s\n",
      "epoch 44 | loss: 0.09235 | train_mse: 0.08916 | valid_mse: 0.09932 |  0:01:26s\n",
      "epoch 45 | loss: 0.09109 | train_mse: 0.09222 | valid_mse: 0.10209 |  0:01:28s\n",
      "epoch 46 | loss: 0.09137 | train_mse: 0.0903  | valid_mse: 0.10064 |  0:01:30s\n",
      "epoch 47 | loss: 0.09114 | train_mse: 0.09118 | valid_mse: 0.10109 |  0:01:32s\n",
      "epoch 48 | loss: 0.09042 | train_mse: 0.08893 | valid_mse: 0.10173 |  0:01:34s\n",
      "epoch 49 | loss: 0.08991 | train_mse: 0.08794 | valid_mse: 0.09985 |  0:01:36s\n",
      "epoch 50 | loss: 0.0907  | train_mse: 0.08778 | valid_mse: 0.10008 |  0:01:38s\n",
      "epoch 51 | loss: 0.09124 | train_mse: 0.08835 | valid_mse: 0.10064 |  0:01:39s\n",
      "epoch 52 | loss: 0.09046 | train_mse: 0.08941 | valid_mse: 0.10018 |  0:01:41s\n",
      "epoch 53 | loss: 0.09037 | train_mse: 0.09123 | valid_mse: 0.10197 |  0:01:43s\n",
      "epoch 54 | loss: 0.09029 | train_mse: 0.08915 | valid_mse: 0.10132 |  0:01:45s\n",
      "epoch 55 | loss: 0.09057 | train_mse: 0.092   | valid_mse: 0.10384 |  0:01:47s\n",
      "epoch 56 | loss: 0.0925  | train_mse: 0.10487 | valid_mse: 0.10989 |  0:01:49s\n",
      "epoch 57 | loss: 0.09791 | train_mse: 0.09456 | valid_mse: 0.10031 |  0:01:51s\n",
      "epoch 58 | loss: 0.09434 | train_mse: 0.0941  | valid_mse: 0.09991 |  0:01:53s\n",
      "epoch 59 | loss: 0.0925  | train_mse: 0.09398 | valid_mse: 0.1015  |  0:01:55s\n",
      "epoch 60 | loss: 0.09247 | train_mse: 0.09272 | valid_mse: 0.10007 |  0:01:57s\n",
      "epoch 61 | loss: 0.09113 | train_mse: 0.09331 | valid_mse: 0.1017  |  0:01:59s\n",
      "epoch 62 | loss: 0.09036 | train_mse: 0.08852 | valid_mse: 0.0994  |  0:02:00s\n",
      "epoch 63 | loss: 0.0902  | train_mse: 0.0921  | valid_mse: 0.10375 |  0:02:02s\n",
      "epoch 64 | loss: 0.09074 | train_mse: 0.09006 | valid_mse: 0.10103 |  0:02:04s\n",
      "epoch 65 | loss: 0.08923 | train_mse: 0.09199 | valid_mse: 0.10418 |  0:02:06s\n",
      "epoch 66 | loss: 0.0893  | train_mse: 0.09002 | valid_mse: 0.10284 |  0:02:08s\n",
      "epoch 67 | loss: 0.0896  | train_mse: 0.08998 | valid_mse: 0.10186 |  0:02:10s\n",
      "epoch 68 | loss: 0.0906  | train_mse: 0.09005 | valid_mse: 0.10358 |  0:02:12s\n",
      "epoch 69 | loss: 0.08892 | train_mse: 0.08793 | valid_mse: 0.10264 |  0:02:14s\n",
      "epoch 70 | loss: 0.08892 | train_mse: 0.08799 | valid_mse: 0.1027  |  0:02:16s\n",
      "epoch 71 | loss: 0.08883 | train_mse: 0.08991 | valid_mse: 0.10278 |  0:02:18s\n",
      "epoch 72 | loss: 0.08952 | train_mse: 0.09072 | valid_mse: 0.10263 |  0:02:20s\n",
      "epoch 73 | loss: 0.08932 | train_mse: 0.08892 | valid_mse: 0.10169 |  0:02:22s\n",
      "epoch 74 | loss: 0.08877 | train_mse: 0.0921  | valid_mse: 0.10305 |  0:02:23s\n",
      "epoch 75 | loss: 0.08843 | train_mse: 0.08798 | valid_mse: 0.10141 |  0:02:25s\n",
      "epoch 76 | loss: 0.08791 | train_mse: 0.08862 | valid_mse: 0.10187 |  0:02:27s\n",
      "epoch 77 | loss: 0.08775 | train_mse: 0.089   | valid_mse: 0.1009  |  0:02:29s\n",
      "epoch 78 | loss: 0.08905 | train_mse: 0.087   | valid_mse: 0.10081 |  0:02:31s\n",
      "epoch 79 | loss: 0.08781 | train_mse: 0.08835 | valid_mse: 0.10344 |  0:02:33s\n",
      "epoch 80 | loss: 0.08799 | train_mse: 0.08901 | valid_mse: 0.10339 |  0:02:35s\n",
      "epoch 81 | loss: 0.08751 | train_mse: 0.08926 | valid_mse: 0.10351 |  0:02:37s\n",
      "epoch 82 | loss: 0.08791 | train_mse: 0.08709 | valid_mse: 0.10235 |  0:02:39s\n",
      "epoch 83 | loss: 0.08803 | train_mse: 0.08878 | valid_mse: 0.1033  |  0:02:41s\n",
      "epoch 84 | loss: 0.08837 | train_mse: 0.09125 | valid_mse: 0.10478 |  0:02:43s\n",
      "epoch 85 | loss: 0.08826 | train_mse: 0.08968 | valid_mse: 0.10435 |  0:02:45s\n",
      "epoch 86 | loss: 0.08738 | train_mse: 0.08674 | valid_mse: 0.10138 |  0:02:46s\n",
      "epoch 87 | loss: 0.08753 | train_mse: 0.0896  | valid_mse: 0.1055  |  0:02:48s\n",
      "epoch 88 | loss: 0.08699 | train_mse: 0.08738 | valid_mse: 0.10282 |  0:02:50s\n",
      "epoch 89 | loss: 0.0873  | train_mse: 0.09006 | valid_mse: 0.10492 |  0:02:52s\n",
      "epoch 90 | loss: 0.08742 | train_mse: 0.08646 | valid_mse: 0.1047  |  0:02:54s\n",
      "epoch 91 | loss: 0.08699 | train_mse: 0.0876  | valid_mse: 0.10243 |  0:02:56s\n",
      "epoch 92 | loss: 0.08707 | train_mse: 0.08778 | valid_mse: 0.10284 |  0:02:58s\n",
      "epoch 93 | loss: 0.08691 | train_mse: 0.08597 | valid_mse: 0.10185 |  0:03:00s\n",
      "epoch 94 | loss: 0.08672 | train_mse: 0.08742 | valid_mse: 0.10276 |  0:03:02s\n",
      "\n",
      "Early stopping occurred at epoch 94 with best_epoch = 24 and best_valid_mse = 0.09702\n",
      "Best weights from best epoch are automatically used!\n"
     ]
    }
   ],
   "source": [
    "clf.fit(\n",
    "    X_train=X_train, y_train=y_train,\n",
    "    eval_set=[(X_train, y_train), (X_valid, y_valid)],\n",
    "    eval_name=['train', 'valid'],\n",
    "    eval_metric=['mse'],\n",
    "    max_epochs=max_epochs,\n",
    "    patience=70,\n",
    "    batch_size=1024, virtual_batch_size=128,\n",
    "    num_workers=0,\n",
    "    drop_last=False\n",
    ") "
   ]
  },
  {
   "cell_type": "code",
   "execution_count": 26,
   "metadata": {},
   "outputs": [
    {
     "name": "stdout",
     "output_type": "stream",
     "text": [
      "BEST VALID SCORE FOR census-income : 0.0970204480057824\n",
      "FINAL TEST SCORE FOR census-income : 0.10327615563191898\n"
     ]
    }
   ],
   "source": [
    "# Deprecated : best model is automatically loaded at end of fit\n",
    "# clf.load_best_model()\n",
    "\n",
    "preds = clf.predict(X_test)\n",
    "\n",
    "y_true = y_test\n",
    "\n",
    "test_score = mean_squared_error(y_pred=preds, y_true=y_true)\n",
    "\n",
    "print(f\"BEST VALID SCORE FOR {dataset_name} : {clf.best_cost}\")\n",
    "print(f\"FINAL TEST SCORE FOR {dataset_name} : {test_score}\")"
   ]
  },
  {
   "cell_type": "markdown",
   "metadata": {},
   "source": [
    "# Save model and load"
   ]
  },
  {
   "cell_type": "code",
   "execution_count": 27,
   "metadata": {},
   "outputs": [
    {
     "name": "stdout",
     "output_type": "stream",
     "text": [
      "Successfully saved model at ./tabnet_model_test_1.zip\n"
     ]
    }
   ],
   "source": [
    "# save tabnet model\n",
    "saving_path_name = \"./tabnet_model_test_1\"\n",
    "saved_filepath = clf.save_model(saving_path_name)"
   ]
  },
  {
   "cell_type": "code",
   "execution_count": 28,
   "metadata": {},
   "outputs": [
    {
     "name": "stdout",
     "output_type": "stream",
     "text": [
      "Device used : cuda\n",
      "Device used : cuda\n"
     ]
    }
   ],
   "source": [
    "# define new model with basic parameters and load state dict weights\n",
    "loaded_clf = TabNetRegressor()\n",
    "loaded_clf.load_model(saved_filepath)"
   ]
  },
  {
   "cell_type": "code",
   "execution_count": 29,
   "metadata": {},
   "outputs": [
    {
     "name": "stdout",
     "output_type": "stream",
     "text": [
      "FINAL TEST SCORE FOR census-income : 0.10327615563191898\n"
     ]
    }
   ],
   "source": [
    "loaded_preds = loaded_clf.predict(X_test)\n",
    "loaded_test_mse = mean_squared_error(loaded_preds, y_test)\n",
    "\n",
    "print(f\"FINAL TEST SCORE FOR {dataset_name} : {loaded_test_mse}\")"
   ]
  },
  {
   "cell_type": "code",
   "execution_count": 30,
   "metadata": {},
   "outputs": [],
   "source": [
    "assert(test_score == loaded_test_mse)"
   ]
  },
  {
   "cell_type": "markdown",
   "metadata": {},
   "source": [
    "# Global explainability : feat importance summing to 1"
   ]
  },
  {
   "cell_type": "code",
   "execution_count": 31,
   "metadata": {},
   "outputs": [
    {
     "data": {
      "text/plain": [
       "array([0.17174022, 0.        , 0.        , 0.10159504, 0.01113549,\n",
       "       0.06354857, 0.13259092, 0.01688147, 0.01866035, 0.        ,\n",
       "       0.21675181, 0.26069232, 0.00316047, 0.00324334])"
      ]
     },
     "execution_count": 31,
     "metadata": {},
     "output_type": "execute_result"
    }
   ],
   "source": [
    "clf.feature_importances_"
   ]
  },
  {
   "cell_type": "markdown",
   "metadata": {},
   "source": [
    "# Local explainability and masks"
   ]
  },
  {
   "cell_type": "code",
   "execution_count": 32,
   "metadata": {},
   "outputs": [],
   "source": [
    "explain_matrix, masks = clf.explain(X_test)"
   ]
  },
  {
   "cell_type": "code",
   "execution_count": 33,
   "metadata": {},
   "outputs": [],
   "source": [
    "from matplotlib import pyplot as plt\n",
    "%matplotlib inline"
   ]
  },
  {
   "cell_type": "code",
   "execution_count": 34,
   "metadata": {},
   "outputs": [
    {
     "data": {
      "image/png": "[encoded data removed]",
      "text/plain": [
       "<Figure size 1440x1440 with 3 Axes>"
      ]
     },
     "metadata": {
      "needs_background": "light"
     },
     "output_type": "display_data"
    }
   ],
   "source": [
    "fig, axs = plt.subplots(1, 3, figsize=(20,20))\n",
    "\n",
    "for i in range(3):\n",
    "    axs[i].imshow(masks[i][:50])\n",
    "    axs[i].set_title(f\"mask {i}\")\n"
   ]
  },
  {
   "cell_type": "markdown",
   "metadata": {},
   "source": [
    "# XGB"
   ]
  },
  {
   "cell_type": "code",
   "execution_count": 35,
   "metadata": {
    "scrolled": true
   },
   "outputs": [
    {
     "name": "stdout",
     "output_type": "stream",
     "text": [
      "[0]\tvalidation_0-rmse:0.46992\n",
      "[10]\tvalidation_0-rmse:0.33056\n",
      "[20]\tvalidation_0-rmse:0.30274\n",
      "[30]\tvalidation_0-rmse:0.29676\n",
      "[40]\tvalidation_0-rmse:0.29514\n",
      "[50]\tvalidation_0-rmse:0.29520\n",
      "[60]\tvalidation_0-rmse:0.29497\n",
      "[70]\tvalidation_0-rmse:0.29518\n",
      "[80]\tvalidation_0-rmse:0.29521\n",
      "[90]\tvalidation_0-rmse:0.29574\n",
      "[100]\tvalidation_0-rmse:0.29599\n",
      "[101]\tvalidation_0-rmse:0.29598\n"
     ]
    },
    {
     "data": {
      "text/plain": [
       "XGBRegressor(base_score=0.5, booster='gbtree', colsample_bylevel=1,\n",
       "             colsample_bynode=1, colsample_bytree=1, gamma=0, gpu_id=-1,\n",
       "             importance_type='gain', interaction_constraints='',\n",
       "             learning_rate=0.1, max_delta_step=0, max_depth=8,\n",
       "             min_child_weight=1, missing=nan, monotone_constraints='()',\n",
       "             n_estimators=10000, n_jobs=-1, nthread=8, num_parallel_tree=1,\n",
       "             objective='reg:linear', random_state=0, reg_alpha=0, reg_lambda=1,\n",
       "             scale_pos_weight=1, seed=0, silent=None, subsample=0.7,\n",
       "             tree_method='exact', validate_parameters=1, verbosity=0)"
      ]
     },
     "execution_count": 35,
     "metadata": {},
     "output_type": "execute_result"
    }
   ],
   "source": [
    "from xgboost import XGBRegressor\n",
    "\n",
    "clf_xgb = XGBRegressor(max_depth=8,\n",
    "    learning_rate=0.1,\n",
    "    n_estimators=10000,\n",
    "    verbosity=0,\n",
    "    silent=None,\n",
    "    objective='reg:linear',\n",
    "    booster='gbtree',\n",
    "    n_jobs=-1,\n",
    "    nthread=None,\n",
    "    gamma=0,\n",
    "    min_child_weight=1,\n",
    "    max_delta_step=0,\n",
    "    subsample=0.7,\n",
    "    colsample_bytree=1,\n",
    "    colsample_bylevel=1,\n",
    "    colsample_bynode=1,\n",
    "    reg_alpha=0,\n",
    "    reg_lambda=1,\n",
    "    scale_pos_weight=1,\n",
    "    base_score=0.5,\n",
    "    random_state=0,\n",
    "    seed=None,)\n",
    "\n",
    "clf_xgb.fit(X_train, y_train,\n",
    "        eval_set=[(X_valid, y_valid)],\n",
    "        early_stopping_rounds=40,\n",
    "        verbose=10)"
   ]
  },
  {
   "cell_type": "code",
   "execution_count": 22,
   "metadata": {},
   "outputs": [
    {
     "name": "stdout",
     "output_type": "stream",
     "text": [
      "0.08693414488964239\n",
      "0.09148941118733249\n"
     ]
    }
   ],
   "source": [
    "preds = np.array(clf_xgb.predict(X_valid))\n",
    "valid_mse = mean_squared_error(y_pred=preds, y_true=y_valid)\n",
    "print(valid_mse)\n",
    "\n",
    "preds = np.array(clf_xgb.predict(X_test))\n",
    "test_mse = mean_squared_error(y_pred=preds, y_true=y_test)\n",
    "print(test_mse)"
   ]
  },
  {
   "cell_type": "code",
   "execution_count": null,
   "metadata": {},
   "outputs": [],
   "source": []
  }
 ],
 "metadata": {
  "kernelspec": {
   "display_name": "Python 3 (ipykernel)",
   "language": "python",
   "name": "python3"
  },
  "language_info": {
   "codemirror_mode": {
    "name": "ipython",
    "version": 3
   },
   "file_extension": ".py",
   "mimetype": "text/x-python",
   "name": "python",
   "nbconvert_exporter": "python",
   "pygments_lexer": "ipython3",
   "version": "3.8.9"
  },
  "toc": {
   "base_numbering": 1,
   "nav_menu": {},
   "number_sections": true,
   "sideBar": true,
   "skip_h1_title": false,
   "title_cell": "Table of Contents",
   "title_sidebar": "Contents",
   "toc_cell": false,
   "toc_position": {},
   "toc_section_display": true,
   "toc_window_display": false
  }
 },
 "nbformat": 4,
 "nbformat_minor": 2
}
