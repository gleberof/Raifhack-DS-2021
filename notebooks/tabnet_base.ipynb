{
 "cells": [
  {
   "cell_type": "code",
   "execution_count": 1,
   "id": "1dd8ae9f",
   "metadata": {},
   "outputs": [],
   "source": [
    "import pandas as pd\n",
    "import numpy as np"
   ]
  },
  {
   "cell_type": "code",
   "execution_count": 2,
   "id": "bbdf12c5",
   "metadata": {},
   "outputs": [],
   "source": [
    "train = pd.read_csv('../data/train.csv', low_memory=False)\n",
    "test = pd.read_csv('../data/test.csv')"
   ]
  },
  {
   "cell_type": "code",
   "execution_count": 3,
   "id": "1601185e",
   "metadata": {},
   "outputs": [
    {
     "data": {
      "text/plain": [
       "Index(['city', 'floor', 'id', 'lat', 'lng', 'osm_amenity_points_in_0.001',\n",
       "       'osm_amenity_points_in_0.005', 'osm_amenity_points_in_0.0075',\n",
       "       'osm_amenity_points_in_0.01', 'osm_building_points_in_0.001',\n",
       "       'osm_building_points_in_0.005', 'osm_building_points_in_0.0075',\n",
       "       'osm_building_points_in_0.01', 'osm_catering_points_in_0.001',\n",
       "       'osm_catering_points_in_0.005', 'osm_catering_points_in_0.0075',\n",
       "       'osm_catering_points_in_0.01', 'osm_city_closest_dist',\n",
       "       'osm_city_nearest_name', 'osm_city_nearest_population',\n",
       "       'osm_crossing_closest_dist', 'osm_crossing_points_in_0.001',\n",
       "       'osm_crossing_points_in_0.005', 'osm_crossing_points_in_0.0075',\n",
       "       'osm_crossing_points_in_0.01', 'osm_culture_points_in_0.001',\n",
       "       'osm_culture_points_in_0.005', 'osm_culture_points_in_0.0075',\n",
       "       'osm_culture_points_in_0.01', 'osm_finance_points_in_0.001',\n",
       "       'osm_finance_points_in_0.005', 'osm_finance_points_in_0.0075',\n",
       "       'osm_finance_points_in_0.01', 'osm_healthcare_points_in_0.005',\n",
       "       'osm_healthcare_points_in_0.0075', 'osm_healthcare_points_in_0.01',\n",
       "       'osm_historic_points_in_0.005', 'osm_historic_points_in_0.0075',\n",
       "       'osm_historic_points_in_0.01', 'osm_hotels_points_in_0.005',\n",
       "       'osm_hotels_points_in_0.0075', 'osm_hotels_points_in_0.01',\n",
       "       'osm_leisure_points_in_0.005', 'osm_leisure_points_in_0.0075',\n",
       "       'osm_leisure_points_in_0.01', 'osm_offices_points_in_0.001',\n",
       "       'osm_offices_points_in_0.005', 'osm_offices_points_in_0.0075',\n",
       "       'osm_offices_points_in_0.01', 'osm_shops_points_in_0.001',\n",
       "       'osm_shops_points_in_0.005', 'osm_shops_points_in_0.0075',\n",
       "       'osm_shops_points_in_0.01', 'osm_subway_closest_dist',\n",
       "       'osm_train_stop_closest_dist', 'osm_train_stop_points_in_0.005',\n",
       "       'osm_train_stop_points_in_0.0075', 'osm_train_stop_points_in_0.01',\n",
       "       'osm_transport_stop_closest_dist', 'osm_transport_stop_points_in_0.005',\n",
       "       'osm_transport_stop_points_in_0.0075',\n",
       "       'osm_transport_stop_points_in_0.01', 'per_square_meter_price',\n",
       "       'reform_count_of_houses_1000', 'reform_count_of_houses_500',\n",
       "       'reform_house_population_1000', 'reform_house_population_500',\n",
       "       'reform_mean_floor_count_1000', 'reform_mean_floor_count_500',\n",
       "       'reform_mean_year_building_1000', 'reform_mean_year_building_500',\n",
       "       'region', 'total_square', 'street', 'date', 'realty_type',\n",
       "       'price_type'],\n",
       "      dtype='object')"
      ]
     },
     "execution_count": 3,
     "metadata": {},
     "output_type": "execute_result"
    }
   ],
   "source": [
    "train.columns"
   ]
  },
  {
   "cell_type": "code",
   "execution_count": 4,
   "id": "aea2537e",
   "metadata": {},
   "outputs": [
    {
     "name": "stdout",
     "output_type": "stream",
     "text": [
      "floor\n",
      "osm_city_nearest_population\n",
      "reform_house_population_1000\n",
      "reform_house_population_500\n",
      "reform_mean_floor_count_1000\n",
      "reform_mean_floor_count_500\n",
      "reform_mean_year_building_1000\n",
      "reform_mean_year_building_500\n",
      "street\n"
     ]
    }
   ],
   "source": [
    "for c in test.columns:\n",
    "    if train.loc[train[c].isnull()].shape[0] > 0:\n",
    "        print(c)"
   ]
  },
  {
   "cell_type": "code",
   "execution_count": 5,
   "id": "5d89cc6b",
   "metadata": {},
   "outputs": [],
   "source": [
    "import pandas as pd\n",
    "UNKNOWN_VALUE = 'missing'\n",
    "\n",
    "def prepare_categorical(df: pd.DataFrame) -> pd.DataFrame:\n",
    "    \"\"\"\n",
    "    Заполняет пропущенные категориальные переменные\n",
    "    :param df: dataframe, обучающая выборка\n",
    "    :return: dataframe\n",
    "    \"\"\"\n",
    "    df_new = df.copy()\n",
    "    fillna_cols = ['region', 'city', 'street', 'realty_type', 'floor']\n",
    "    df_new[fillna_cols] = df_new[fillna_cols].fillna(UNKNOWN_VALUE)\n",
    "    return df_new\n",
    "train = prepare_categorical(train)\n",
    "test = prepare_categorical(test)"
   ]
  },
  {
   "cell_type": "code",
   "execution_count": 6,
   "id": "6f258c5b",
   "metadata": {},
   "outputs": [],
   "source": [
    "TARGET = 'per_square_meter_price'\n",
    "# признаки (или набор признаков), для которых применяем smoothed target encoding\n",
    "CATEGORICAL_FEATURES = ['region', 'city', 'realty_type', 'street','floor']\n",
    "\n",
    "# численные признаки\n",
    "NUM_FEATURES = ['lat', 'lng', 'osm_amenity_points_in_0.001',\n",
    "       'osm_amenity_points_in_0.005', 'osm_amenity_points_in_0.0075',\n",
    "       'osm_amenity_points_in_0.01', 'osm_building_points_in_0.001',\n",
    "       'osm_building_points_in_0.005', 'osm_building_points_in_0.0075',\n",
    "       'osm_building_points_in_0.01', 'osm_catering_points_in_0.001',\n",
    "       'osm_catering_points_in_0.005', 'osm_catering_points_in_0.0075',\n",
    "       'osm_catering_points_in_0.01', 'osm_city_closest_dist',\n",
    "       'osm_city_nearest_population',\n",
    "       'osm_crossing_closest_dist', 'osm_crossing_points_in_0.001',\n",
    "       'osm_crossing_points_in_0.005', 'osm_crossing_points_in_0.0075',\n",
    "       'osm_crossing_points_in_0.01', 'osm_culture_points_in_0.001',\n",
    "       'osm_culture_points_in_0.005', 'osm_culture_points_in_0.0075',\n",
    "       'osm_culture_points_in_0.01', 'osm_finance_points_in_0.001',\n",
    "       'osm_finance_points_in_0.005', 'osm_finance_points_in_0.0075',\n",
    "       'osm_finance_points_in_0.01', 'osm_healthcare_points_in_0.005',\n",
    "       'osm_healthcare_points_in_0.0075', 'osm_healthcare_points_in_0.01',\n",
    "       'osm_historic_points_in_0.005', 'osm_historic_points_in_0.0075',\n",
    "       'osm_historic_points_in_0.01', 'osm_hotels_points_in_0.005',\n",
    "       'osm_hotels_points_in_0.0075', 'osm_hotels_points_in_0.01',\n",
    "       'osm_leisure_points_in_0.005', 'osm_leisure_points_in_0.0075',\n",
    "       'osm_leisure_points_in_0.01', 'osm_offices_points_in_0.001',\n",
    "       'osm_offices_points_in_0.005', 'osm_offices_points_in_0.0075',\n",
    "       'osm_offices_points_in_0.01', 'osm_shops_points_in_0.001',\n",
    "       'osm_shops_points_in_0.005', 'osm_shops_points_in_0.0075',\n",
    "       'osm_shops_points_in_0.01', 'osm_subway_closest_dist',\n",
    "       'osm_train_stop_closest_dist', 'osm_train_stop_points_in_0.005',\n",
    "       'osm_train_stop_points_in_0.0075', 'osm_train_stop_points_in_0.01',\n",
    "       'osm_transport_stop_closest_dist', 'osm_transport_stop_points_in_0.005',\n",
    "       'osm_transport_stop_points_in_0.0075',\n",
    "       'osm_transport_stop_points_in_0.01',\n",
    "       'reform_count_of_houses_1000', 'reform_count_of_houses_500',\n",
    "       'reform_house_population_1000', 'reform_house_population_500',\n",
    "       'reform_mean_floor_count_1000', 'reform_mean_floor_count_500',\n",
    "       'reform_mean_year_building_1000', 'reform_mean_year_building_500', 'total_square']"
   ]
  },
  {
   "cell_type": "code",
   "execution_count": 7,
   "id": "1a45ab81",
   "metadata": {},
   "outputs": [],
   "source": [
    "import typing\n",
    "import numpy as np\n",
    "from sklearn.metrics import mean_absolute_percentage_error, r2_score, mean_squared_error\n",
    "\n",
    "THRESHOLD = 0.15\n",
    "NEGATIVE_WEIGHT = 1.1\n",
    "\n",
    "\n",
    "def deviation_metric_one_sample(y_true: typing.Union[float, int], y_pred: typing.Union[float, int]) -> float:\n",
    "    \"\"\"\n",
    "    Реализация кастомной метрики для хакатона.\n",
    "\n",
    "    :param y_true: float, реальная цена\n",
    "    :param y_pred: float, предсказанная цена\n",
    "    :return: float, значение метрики\n",
    "    \"\"\"\n",
    "    deviation = (y_pred - y_true) / np.maximum(1e-8, y_true)\n",
    "    if np.abs(deviation) <= THRESHOLD:\n",
    "        return 0\n",
    "    elif deviation <= - 4 * THRESHOLD:\n",
    "        return 9 * NEGATIVE_WEIGHT\n",
    "    elif deviation < -THRESHOLD:\n",
    "        return NEGATIVE_WEIGHT * ((deviation / THRESHOLD) + 1) ** 2\n",
    "    elif deviation < 4 * THRESHOLD:\n",
    "        return ((deviation / THRESHOLD) - 1) ** 2\n",
    "    else:\n",
    "        return 9\n",
    "\n",
    "\n",
    "def deviation_metric(y_true: np.array, y_pred: np.array) -> float:\n",
    "    return np.mean([deviation_metric_one_sample(y_true[n], y_pred[n]) for n in range(len(y_true))]) #.mean()\n",
    "\n",
    "def median_absolute_percentage_error(y_true: np.array, y_pred: np.array) -> float:\n",
    "    return np.median(np.abs(y_pred-y_true)/y_true)\n",
    "\n",
    "def metrics_stat(y_true: np.array, y_pred: np.array) -> typing.Dict[str,float]:\n",
    "    mape = mean_absolute_percentage_error(y_true, y_pred)\n",
    "    mdape = median_absolute_percentage_error(y_true, y_pred)\n",
    "    rmse = mean_squared_error(y_true, y_pred, squared=False)\n",
    "    r2 = r2_score(y_true, y_pred)\n",
    "    raif_metric = deviation_metric(y_true, y_pred)\n",
    "    return {'mape':mape, 'mdape':mdape, 'rmse': rmse, 'r2': r2, 'raif_metric':raif_metric}"
   ]
  },
  {
   "cell_type": "code",
   "execution_count": 8,
   "id": "aea8978f",
   "metadata": {},
   "outputs": [
    {
     "data": {
      "text/plain": [
       "True"
      ]
     },
     "execution_count": 8,
     "metadata": {},
     "output_type": "execute_result"
    }
   ],
   "source": [
    "train_df = train.drop(columns=['id','per_square_meter_price','date', 'osm_city_nearest_name'])\n",
    "test_df = test.drop(columns=['id','date', 'osm_city_nearest_name'])[train_df.columns.tolist()]\n",
    "(np.array(train_df.columns.tolist()) == np.array(test_df.columns.tolist())).all()"
   ]
  },
  {
   "cell_type": "code",
   "execution_count": 9,
   "id": "23f44a52",
   "metadata": {},
   "outputs": [],
   "source": [
    "from sklearn.preprocessing import LabelEncoder\n",
    "\n",
    "dim_size_ = []\n",
    "for c in CATEGORICAL_FEATURES:\n",
    "    le = LabelEncoder()\n",
    "    le.fit(train_df[c].values.tolist() + test_df[c].values.tolist())\n",
    "    train_df[c] = le.transform(train_df[c])\n",
    "    test_df[c] = le.transform(test_df[c])\n",
    "    dim_size_.append(len(np.unique(train_df[c].values.tolist() + test_df[c].values.tolist())))"
   ]
  },
  {
   "cell_type": "code",
   "execution_count": 10,
   "id": "d34627cd",
   "metadata": {},
   "outputs": [
    {
     "data": {
      "text/plain": [
       "[68, 0, 71, 70, 1]"
      ]
     },
     "execution_count": 10,
     "metadata": {},
     "output_type": "execute_result"
    }
   ],
   "source": [
    "cat_idxs = [train_df.columns.tolist().index(x) for x in CATEGORICAL_FEATURES]\n",
    "cat_idxs"
   ]
  },
  {
   "cell_type": "code",
   "execution_count": 11,
   "id": "d6d848f0",
   "metadata": {},
   "outputs": [
    {
     "data": {
      "text/plain": [
       "[49, 4949, 3, 28964, 198]"
      ]
     },
     "execution_count": 11,
     "metadata": {},
     "output_type": "execute_result"
    }
   ],
   "source": [
    "dim_size_"
   ]
  },
  {
   "cell_type": "code",
   "execution_count": 12,
   "id": "3ea95e60",
   "metadata": {},
   "outputs": [
    {
     "data": {
      "text/plain": [
       "['region', 'city', 'realty_type', 'street', 'floor']"
      ]
     },
     "execution_count": 12,
     "metadata": {},
     "output_type": "execute_result"
    }
   ],
   "source": [
    "CATEGORICAL_FEATURES"
   ]
  },
  {
   "cell_type": "code",
   "execution_count": 15,
   "id": "1847dd8d",
   "metadata": {},
   "outputs": [],
   "source": [
    "from sklearn.model_selection import KFold\n",
    "from pytorch_tabnet.metrics import Metric\n",
    "from pytorch_tabnet.tab_model import TabNetRegressor\n",
    "\n",
    "import torch\n",
    "from torch.optim import AdamW, SGD\n",
    "from torch.optim.lr_scheduler import ReduceLROnPlateau, CosineAnnealingWarmRestarts\n",
    "\n",
    "tabnet_params = dict(\n",
    "    cat_idxs=cat_idxs,\n",
    "    cat_dims=dim_size_,\n",
    "    cat_emb_dim=[3,3,1,8,3],\n",
    "    n_d = 8,\n",
    "    n_a = 8,\n",
    "    n_steps = 1,\n",
    "    gamma = 4,\n",
    "    n_independent = 2,\n",
    "    n_shared = 2,\n",
    "    lambda_sparse = 0,\n",
    "    optimizer_fn = AdamW,\n",
    "    optimizer_params = dict(lr = (1e-2), weight_decay=0.01),\n",
    "    mask_type = \"entmax\",\n",
    "    scheduler_params = dict(T_0=120, T_mult=1, eta_min=1e-4, last_epoch=-1, verbose=False),\n",
    "    scheduler_fn = CosineAnnealingWarmRestarts,\n",
    "    seed = 239,\n",
    "    verbose = 10\n",
    ")\n"
   ]
  },
  {
   "cell_type": "code",
   "execution_count": 15,
   "id": "f5f9b648",
   "metadata": {},
   "outputs": [
    {
     "name": "stdout",
     "output_type": "stream",
     "text": [
      "Device used : cuda\n",
      "epoch 0  | loss: 14.11548| val_0_DevMetric: 3.21479 | val_1_DevMetric: 3.43257 |  0:00:04s\n",
      "epoch 10 | loss: 0.42043 | val_0_DevMetric: 2.18471 | val_1_DevMetric: 2.4995  |  0:00:46s\n",
      "epoch 20 | loss: 0.36017 | val_0_DevMetric: 1.47189 | val_1_DevMetric: 1.95561 |  0:01:28s\n",
      "epoch 30 | loss: 0.32789 | val_0_DevMetric: 1.42917 | val_1_DevMetric: 2.05211 |  0:02:09s\n",
      "epoch 40 | loss: 0.30614 | val_0_DevMetric: 1.402   | val_1_DevMetric: 2.08661 |  0:02:51s\n",
      "epoch 50 | loss: 0.29025 | val_0_DevMetric: 1.49652 | val_1_DevMetric: 2.27925 |  0:03:34s\n",
      "epoch 60 | loss: 0.27731 | val_0_DevMetric: 1.23025 | val_1_DevMetric: 1.88761 |  0:04:16s\n",
      "\n",
      "Early stopping occurred at epoch 67 with best_epoch = 17 and best_val_1_DevMetric = 1.80671\n",
      "Best weights from best epoch are automatically used!\n",
      "Successfully saved model at model_0.pth.zip\n",
      "Device used : cuda\n",
      "epoch 0  | loss: 14.08821| val_0_DevMetric: 3.16155 | val_1_DevMetric: 3.57503 |  0:00:04s\n",
      "epoch 10 | loss: 0.42021 | val_0_DevMetric: 1.86619 | val_1_DevMetric: 2.4577  |  0:00:46s\n",
      "epoch 20 | loss: 0.36391 | val_0_DevMetric: 1.49434 | val_1_DevMetric: 2.14295 |  0:01:29s\n",
      "epoch 30 | loss: 0.33542 | val_0_DevMetric: 1.41703 | val_1_DevMetric: 2.32596 |  0:02:12s\n",
      "epoch 40 | loss: 0.31371 | val_0_DevMetric: 1.33378 | val_1_DevMetric: 2.18367 |  0:02:55s\n",
      "epoch 50 | loss: 0.29871 | val_0_DevMetric: 1.45772 | val_1_DevMetric: 2.4495  |  0:03:38s\n",
      "epoch 60 | loss: 0.28432 | val_0_DevMetric: 1.57656 | val_1_DevMetric: 2.59109 |  0:04:20s\n",
      "epoch 70 | loss: 0.27063 | val_0_DevMetric: 1.961   | val_1_DevMetric: 2.95006 |  0:05:03s\n",
      "\n",
      "Early stopping occurred at epoch 76 with best_epoch = 26 and best_val_1_DevMetric = 2.03521\n",
      "Best weights from best epoch are automatically used!\n",
      "Successfully saved model at model_1.pth.zip\n",
      "Device used : cuda\n",
      "epoch 0  | loss: 13.88405| val_0_DevMetric: 3.51695 | val_1_DevMetric: 3.41905 |  0:00:04s\n",
      "epoch 10 | loss: 0.41089 | val_0_DevMetric: 1.75359 | val_1_DevMetric: 1.97235 |  0:00:53s\n",
      "epoch 20 | loss: 0.35866 | val_0_DevMetric: 1.52287 | val_1_DevMetric: 2.11623 |  0:01:35s\n",
      "epoch 30 | loss: 0.33026 | val_0_DevMetric: 1.57115 | val_1_DevMetric: 2.26311 |  0:02:26s\n",
      "epoch 40 | loss: 0.31249 | val_0_DevMetric: 1.3131  | val_1_DevMetric: 2.1996  |  0:03:31s\n",
      "epoch 50 | loss: 0.29783 | val_0_DevMetric: 1.43252 | val_1_DevMetric: 2.26369 |  0:04:36s\n",
      "epoch 60 | loss: 0.28388 | val_0_DevMetric: 1.66342 | val_1_DevMetric: 2.51072 |  0:05:41s\n",
      "epoch 70 | loss: 0.27083 | val_0_DevMetric: 1.31833 | val_1_DevMetric: 2.17433 |  0:06:46s\n",
      "\n",
      "Early stopping occurred at epoch 72 with best_epoch = 22 and best_val_1_DevMetric = 1.96036\n",
      "Best weights from best epoch are automatically used!\n",
      "Successfully saved model at model_2.pth.zip\n",
      "Device used : cuda\n",
      "epoch 0  | loss: 13.65566| val_0_DevMetric: 3.53433 | val_1_DevMetric: 3.26155 |  0:00:06s\n",
      "epoch 10 | loss: 0.41886 | val_0_DevMetric: 2.00929 | val_1_DevMetric: 2.52175 |  0:01:01s\n",
      "epoch 20 | loss: 0.35819 | val_0_DevMetric: 2.34087 | val_1_DevMetric: 2.84881 |  0:01:44s\n",
      "epoch 30 | loss: 0.32988 | val_0_DevMetric: 1.61369 | val_1_DevMetric: 2.18805 |  0:02:27s\n",
      "epoch 40 | loss: 0.30956 | val_0_DevMetric: 1.71767 | val_1_DevMetric: 2.39487 |  0:03:10s\n",
      "epoch 50 | loss: 0.29439 | val_0_DevMetric: 1.35772 | val_1_DevMetric: 2.05339 |  0:03:53s\n",
      "epoch 60 | loss: 0.28105 | val_0_DevMetric: 1.42851 | val_1_DevMetric: 2.02886 |  0:04:47s\n",
      "\n",
      "Early stopping occurred at epoch 69 with best_epoch = 19 and best_val_1_DevMetric = 1.83717\n",
      "Best weights from best epoch are automatically used!\n",
      "Successfully saved model at model_3.pth.zip\n",
      "Device used : cuda\n",
      "epoch 0  | loss: 13.73689| val_0_DevMetric: 3.64921 | val_1_DevMetric: 3.84655 |  0:00:05s\n",
      "epoch 10 | loss: 0.41477 | val_0_DevMetric: 2.62535 | val_1_DevMetric: 3.02614 |  0:01:00s\n",
      "epoch 20 | loss: 0.35765 | val_0_DevMetric: 1.5077  | val_1_DevMetric: 2.02634 |  0:01:54s\n",
      "epoch 30 | loss: 0.33124 | val_0_DevMetric: 1.5824  | val_1_DevMetric: 2.18102 |  0:02:49s\n",
      "epoch 40 | loss: 0.31274 | val_0_DevMetric: 1.38899 | val_1_DevMetric: 2.09524 |  0:03:41s\n",
      "epoch 50 | loss: 0.29918 | val_0_DevMetric: 1.59122 | val_1_DevMetric: 2.3482  |  0:04:23s\n",
      "epoch 60 | loss: 0.2849  | val_0_DevMetric: 1.62566 | val_1_DevMetric: 2.3345  |  0:05:05s\n",
      "epoch 70 | loss: 0.27117 | val_0_DevMetric: 1.29641 | val_1_DevMetric: 2.0228  |  0:05:48s\n",
      "\n",
      "Early stopping occurred at epoch 76 with best_epoch = 26 and best_val_1_DevMetric = 1.91973\n",
      "Best weights from best epoch are automatically used!\n",
      "Successfully saved model at model_4.pth.zip\n"
     ]
    }
   ],
   "source": [
    "\n",
    "kf = KFold(n_splits=5, shuffle=True, random_state=239)\n",
    "\n",
    "class DevMetric(Metric):\n",
    "    def __init__(self):\n",
    "        self._name = \"DevMetric\"\n",
    "        self._maximize = False\n",
    "\n",
    "    def __call__(self, y_true, y_score):\n",
    "        #print(y_true.shape, y_score.shape, y_true.dtype)\n",
    "        return metrics_stat(np.expm1(y_true.flatten()), \n",
    "                            np.expm1(np.clip(y_score.flatten(),5,15))\n",
    "                           )['raif_metric']\n",
    "    \n",
    "\n",
    "ifold = 0\n",
    "for tr,va in kf.split(train_df):\n",
    "    df_tr = train_df.loc[tr].reset_index(drop=True).fillna(0).values\n",
    "    df_va = train_df.loc[va].reset_index(drop=True).fillna(0).values\n",
    "    tr_y = np.log1p(train.loc[tr,[TARGET]].values)\n",
    "    va_y = np.log1p(train.loc[va,[TARGET]].values)\n",
    "    \n",
    "    va_y = va_y[train_df.loc[va].price_type.values == 1]\n",
    "    df_va = df_va[train_df.loc[va].price_type.values == 1]\n",
    "    \n",
    "    c_1_tr_y = tr_y[train_df.loc[tr].price_type.values == 1]\n",
    "    c_1_df_tr = df_tr[train_df.loc[tr].price_type.values == 1]\n",
    "    \n",
    "    clf =  TabNetRegressor(**tabnet_params)\n",
    "    clf.fit(\n",
    "      df_tr, tr_y,\n",
    "      eval_set=[(c_1_df_tr, c_1_tr_y), (df_va, va_y)],\n",
    "      max_epochs = 120,\n",
    "      patience = 50,\n",
    "      batch_size = 1024, \n",
    "      virtual_batch_size = 1024,\n",
    "      num_workers = 4,\n",
    "      drop_last = False,\n",
    "      eval_metric=[DevMetric]\n",
    "    )\n",
    "    clf.save_model('model_'+str(ifold)+'.pth')\n",
    "    ifold += 1"
   ]
  },
  {
   "cell_type": "code",
   "execution_count": 16,
   "id": "4316c2a3",
   "metadata": {},
   "outputs": [
    {
     "name": "stdout",
     "output_type": "stream",
     "text": [
      "Device used : cuda\n",
      "Device used : cuda\n",
      "Device used : cuda\n",
      "Device used : cuda\n",
      "Device used : cuda\n",
      "Device used : cuda\n",
      "Device used : cuda\n",
      "Device used : cuda\n",
      "Device used : cuda\n",
      "Device used : cuda\n"
     ]
    }
   ],
   "source": [
    "from sklearn.model_selection import KFold\n",
    "from pytorch_tabnet.metrics import Metric\n",
    "from pytorch_tabnet.tab_model import TabNetRegressor\n",
    "\n",
    "import torch\n",
    "from torch.optim import AdamW, SGD\n",
    "from torch.optim.lr_scheduler import ReduceLROnPlateau, CosineAnnealingWarmRestarts\n",
    "\n",
    "pred = 0\n",
    "for ifold in range(5):\n",
    "    clf = TabNetRegressor(**tabnet_params)\n",
    "    clf.load_model('model_'+str(ifold)+'.pth.zip')\n",
    "    y_score = clf.predict(test_df.fillna(0).values)\n",
    "    y_score = np.clip(y_score.flatten(),5,15)\n",
    "    pred += np.expm1(y_score) * 0.2\n",
    "test_sub = pd.read_csv('../data/test.csv')[['id']]\n",
    "test_sub[TARGET] = pred\n",
    "test_sub.to_csv('tabnet_base.csv', index=False)"
   ]
  },
  {
   "cell_type": "code",
   "execution_count": 17,
   "id": "d9cb6348",
   "metadata": {},
   "outputs": [
    {
     "data": {
      "text/html": [
       "<div>\n",
       "<style scoped>\n",
       "    .dataframe tbody tr th:only-of-type {\n",
       "        vertical-align: middle;\n",
       "    }\n",
       "\n",
       "    .dataframe tbody tr th {\n",
       "        vertical-align: top;\n",
       "    }\n",
       "\n",
       "    .dataframe thead th {\n",
       "        text-align: right;\n",
       "    }\n",
       "</style>\n",
       "<table border=\"1\" class=\"dataframe\">\n",
       "  <thead>\n",
       "    <tr style=\"text-align: right;\">\n",
       "      <th></th>\n",
       "      <th>id</th>\n",
       "      <th>per_square_meter_price</th>\n",
       "    </tr>\n",
       "  </thead>\n",
       "  <tbody>\n",
       "    <tr>\n",
       "      <th>0</th>\n",
       "      <td>COL_289284</td>\n",
       "      <td>37242.601562</td>\n",
       "    </tr>\n",
       "    <tr>\n",
       "      <th>1</th>\n",
       "      <td>COL_289305</td>\n",
       "      <td>59349.453125</td>\n",
       "    </tr>\n",
       "    <tr>\n",
       "      <th>2</th>\n",
       "      <td>COL_289318</td>\n",
       "      <td>31521.742188</td>\n",
       "    </tr>\n",
       "    <tr>\n",
       "      <th>3</th>\n",
       "      <td>COL_289354</td>\n",
       "      <td>73234.507812</td>\n",
       "    </tr>\n",
       "    <tr>\n",
       "      <th>4</th>\n",
       "      <td>COL_289399</td>\n",
       "      <td>47445.417969</td>\n",
       "    </tr>\n",
       "  </tbody>\n",
       "</table>\n",
       "</div>"
      ],
      "text/plain": [
       "           id  per_square_meter_price\n",
       "0  COL_289284            37242.601562\n",
       "1  COL_289305            59349.453125\n",
       "2  COL_289318            31521.742188\n",
       "3  COL_289354            73234.507812\n",
       "4  COL_289399            47445.417969"
      ]
     },
     "execution_count": 17,
     "metadata": {},
     "output_type": "execute_result"
    }
   ],
   "source": [
    "test_sub.head()"
   ]
  },
  {
   "cell_type": "code",
   "execution_count": null,
   "id": "449d5a38",
   "metadata": {},
   "outputs": [],
   "source": []
  }
 ],
 "metadata": {
  "kernelspec": {
   "display_name": "Python 3 (ipykernel)",
   "language": "python",
   "name": "python3"
  },
  "language_info": {
   "codemirror_mode": {
    "name": "ipython",
    "version": 3
   },
   "file_extension": ".py",
   "mimetype": "text/x-python",
   "name": "python",
   "nbconvert_exporter": "python",
   "pygments_lexer": "ipython3",
   "version": "3.8.9"
  }
 },
 "nbformat": 4,
 "nbformat_minor": 5
}
