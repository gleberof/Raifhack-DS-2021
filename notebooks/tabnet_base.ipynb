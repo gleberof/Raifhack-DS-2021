{
 "cells": [
  {
   "cell_type": "code",
   "execution_count": 2,
   "id": "d87218b7",
   "metadata": {},
   "outputs": [],
   "source": [
    "import pandas as pd\n",
    "import numpy as np"
   ]
  },
  {
   "cell_type": "code",
   "execution_count": 3,
   "id": "af63eb8f",
   "metadata": {},
   "outputs": [],
   "source": [
    "train = pd.read_csv('../data/train.csv', low_memory=False)\n",
    "test = pd.read_csv('../data/test.csv')"
   ]
  },
  {
   "cell_type": "code",
   "execution_count": 4,
   "id": "bd66b903",
   "metadata": {},
   "outputs": [
    {
     "data": {
      "text/plain": [
       "Index(['city', 'floor', 'id', 'lat', 'lng', 'osm_amenity_points_in_0.001',\n",
       "       'osm_amenity_points_in_0.005', 'osm_amenity_points_in_0.0075',\n",
       "       'osm_amenity_points_in_0.01', 'osm_building_points_in_0.001',\n",
       "       'osm_building_points_in_0.005', 'osm_building_points_in_0.0075',\n",
       "       'osm_building_points_in_0.01', 'osm_catering_points_in_0.001',\n",
       "       'osm_catering_points_in_0.005', 'osm_catering_points_in_0.0075',\n",
       "       'osm_catering_points_in_0.01', 'osm_city_closest_dist',\n",
       "       'osm_city_nearest_name', 'osm_city_nearest_population',\n",
       "       'osm_crossing_closest_dist', 'osm_crossing_points_in_0.001',\n",
       "       'osm_crossing_points_in_0.005', 'osm_crossing_points_in_0.0075',\n",
       "       'osm_crossing_points_in_0.01', 'osm_culture_points_in_0.001',\n",
       "       'osm_culture_points_in_0.005', 'osm_culture_points_in_0.0075',\n",
       "       'osm_culture_points_in_0.01', 'osm_finance_points_in_0.001',\n",
       "       'osm_finance_points_in_0.005', 'osm_finance_points_in_0.0075',\n",
       "       'osm_finance_points_in_0.01', 'osm_healthcare_points_in_0.005',\n",
       "       'osm_healthcare_points_in_0.0075', 'osm_healthcare_points_in_0.01',\n",
       "       'osm_historic_points_in_0.005', 'osm_historic_points_in_0.0075',\n",
       "       'osm_historic_points_in_0.01', 'osm_hotels_points_in_0.005',\n",
       "       'osm_hotels_points_in_0.0075', 'osm_hotels_points_in_0.01',\n",
       "       'osm_leisure_points_in_0.005', 'osm_leisure_points_in_0.0075',\n",
       "       'osm_leisure_points_in_0.01', 'osm_offices_points_in_0.001',\n",
       "       'osm_offices_points_in_0.005', 'osm_offices_points_in_0.0075',\n",
       "       'osm_offices_points_in_0.01', 'osm_shops_points_in_0.001',\n",
       "       'osm_shops_points_in_0.005', 'osm_shops_points_in_0.0075',\n",
       "       'osm_shops_points_in_0.01', 'osm_subway_closest_dist',\n",
       "       'osm_train_stop_closest_dist', 'osm_train_stop_points_in_0.005',\n",
       "       'osm_train_stop_points_in_0.0075', 'osm_train_stop_points_in_0.01',\n",
       "       'osm_transport_stop_closest_dist', 'osm_transport_stop_points_in_0.005',\n",
       "       'osm_transport_stop_points_in_0.0075',\n",
       "       'osm_transport_stop_points_in_0.01', 'per_square_meter_price',\n",
       "       'reform_count_of_houses_1000', 'reform_count_of_houses_500',\n",
       "       'reform_house_population_1000', 'reform_house_population_500',\n",
       "       'reform_mean_floor_count_1000', 'reform_mean_floor_count_500',\n",
       "       'reform_mean_year_building_1000', 'reform_mean_year_building_500',\n",
       "       'region', 'total_square', 'street', 'date', 'realty_type',\n",
       "       'price_type'],\n",
       "      dtype='object')"
      ]
     },
     "execution_count": 4,
     "metadata": {},
     "output_type": "execute_result"
    }
   ],
   "source": [
    "train.columns"
   ]
  },
  {
   "cell_type": "code",
   "execution_count": 5,
   "id": "09f31442",
   "metadata": {},
   "outputs": [
    {
     "name": "stdout",
     "output_type": "stream",
     "text": [
      "floor\n",
      "osm_city_nearest_population\n",
      "reform_house_population_1000\n",
      "reform_house_population_500\n",
      "reform_mean_floor_count_1000\n",
      "reform_mean_floor_count_500\n",
      "reform_mean_year_building_1000\n",
      "reform_mean_year_building_500\n",
      "street\n"
     ]
    }
   ],
   "source": [
    "for c in test.columns:\n",
    "    if train.loc[train[c].isnull()].shape[0] > 0:\n",
    "        print(c)"
   ]
  },
  {
   "cell_type": "code",
   "execution_count": 6,
   "id": "1877147b",
   "metadata": {},
   "outputs": [],
   "source": [
    "import pandas as pd\n",
    "UNKNOWN_VALUE = 'missing'\n",
    "\n",
    "def prepare_categorical(df: pd.DataFrame) -> pd.DataFrame:\n",
    "    \"\"\"\n",
    "    Заполняет пропущенные категориальные переменные\n",
    "    :param df: dataframe, обучающая выборка\n",
    "    :return: dataframe\n",
    "    \"\"\"\n",
    "    df_new = df.copy()\n",
    "    fillna_cols = ['region', 'city', 'street', 'realty_type', 'floor']\n",
    "    df_new[fillna_cols] = df_new[fillna_cols].fillna(UNKNOWN_VALUE)\n",
    "    return df_new\n",
    "train = prepare_categorical(train)\n",
    "test = prepare_categorical(test)"
   ]
  },
  {
   "cell_type": "code",
   "execution_count": 7,
   "id": "2785af3a",
   "metadata": {},
   "outputs": [],
   "source": [
    "TARGET = 'per_square_meter_price'\n",
    "# признаки (или набор признаков), для которых применяем smoothed target encoding\n",
    "CATEGORICAL_FEATURES = ['region', 'city', 'realty_type', 'street','floor']\n",
    "\n",
    "# численные признаки\n",
    "NUM_FEATURES = ['lat', 'lng', 'osm_amenity_points_in_0.001',\n",
    "       'osm_amenity_points_in_0.005', 'osm_amenity_points_in_0.0075',\n",
    "       'osm_amenity_points_in_0.01', 'osm_building_points_in_0.001',\n",
    "       'osm_building_points_in_0.005', 'osm_building_points_in_0.0075',\n",
    "       'osm_building_points_in_0.01', 'osm_catering_points_in_0.001',\n",
    "       'osm_catering_points_in_0.005', 'osm_catering_points_in_0.0075',\n",
    "       'osm_catering_points_in_0.01', 'osm_city_closest_dist',\n",
    "       'osm_city_nearest_population',\n",
    "       'osm_crossing_closest_dist', 'osm_crossing_points_in_0.001',\n",
    "       'osm_crossing_points_in_0.005', 'osm_crossing_points_in_0.0075',\n",
    "       'osm_crossing_points_in_0.01', 'osm_culture_points_in_0.001',\n",
    "       'osm_culture_points_in_0.005', 'osm_culture_points_in_0.0075',\n",
    "       'osm_culture_points_in_0.01', 'osm_finance_points_in_0.001',\n",
    "       'osm_finance_points_in_0.005', 'osm_finance_points_in_0.0075',\n",
    "       'osm_finance_points_in_0.01', 'osm_healthcare_points_in_0.005',\n",
    "       'osm_healthcare_points_in_0.0075', 'osm_healthcare_points_in_0.01',\n",
    "       'osm_historic_points_in_0.005', 'osm_historic_points_in_0.0075',\n",
    "       'osm_historic_points_in_0.01', 'osm_hotels_points_in_0.005',\n",
    "       'osm_hotels_points_in_0.0075', 'osm_hotels_points_in_0.01',\n",
    "       'osm_leisure_points_in_0.005', 'osm_leisure_points_in_0.0075',\n",
    "       'osm_leisure_points_in_0.01', 'osm_offices_points_in_0.001',\n",
    "       'osm_offices_points_in_0.005', 'osm_offices_points_in_0.0075',\n",
    "       'osm_offices_points_in_0.01', 'osm_shops_points_in_0.001',\n",
    "       'osm_shops_points_in_0.005', 'osm_shops_points_in_0.0075',\n",
    "       'osm_shops_points_in_0.01', 'osm_subway_closest_dist',\n",
    "       'osm_train_stop_closest_dist', 'osm_train_stop_points_in_0.005',\n",
    "       'osm_train_stop_points_in_0.0075', 'osm_train_stop_points_in_0.01',\n",
    "       'osm_transport_stop_closest_dist', 'osm_transport_stop_points_in_0.005',\n",
    "       'osm_transport_stop_points_in_0.0075',\n",
    "       'osm_transport_stop_points_in_0.01',\n",
    "       'reform_count_of_houses_1000', 'reform_count_of_houses_500',\n",
    "       'reform_house_population_1000', 'reform_house_population_500',\n",
    "       'reform_mean_floor_count_1000', 'reform_mean_floor_count_500',\n",
    "       'reform_mean_year_building_1000', 'reform_mean_year_building_500', 'total_square']"
   ]
  },
  {
   "cell_type": "code",
   "execution_count": 8,
   "id": "030eb83b",
   "metadata": {},
   "outputs": [],
   "source": [
    "import typing\n",
    "import numpy as np\n",
    "from sklearn.metrics import mean_absolute_percentage_error, r2_score, mean_squared_error\n",
    "\n",
    "THRESHOLD = 0.15\n",
    "NEGATIVE_WEIGHT = 1.1\n",
    "\n",
    "\n",
    "def deviation_metric_one_sample(y_true: typing.Union[float, int], y_pred: typing.Union[float, int]) -> float:\n",
    "    \"\"\"\n",
    "    Реализация кастомной метрики для хакатона.\n",
    "\n",
    "    :param y_true: float, реальная цена\n",
    "    :param y_pred: float, предсказанная цена\n",
    "    :return: float, значение метрики\n",
    "    \"\"\"\n",
    "    deviation = (y_pred - y_true) / np.maximum(1e-8, y_true)\n",
    "    if np.abs(deviation) <= THRESHOLD:\n",
    "        return 0\n",
    "    elif deviation <= - 4 * THRESHOLD:\n",
    "        return 9 * NEGATIVE_WEIGHT\n",
    "    elif deviation < -THRESHOLD:\n",
    "        return NEGATIVE_WEIGHT * ((deviation / THRESHOLD) + 1) ** 2\n",
    "    elif deviation < 4 * THRESHOLD:\n",
    "        return ((deviation / THRESHOLD) - 1) ** 2\n",
    "    else:\n",
    "        return 9\n",
    "\n",
    "\n",
    "def deviation_metric(y_true: np.array, y_pred: np.array) -> float:\n",
    "    return np.mean([deviation_metric_one_sample(y_true[n], y_pred[n]) for n in range(len(y_true))]) #.mean()\n",
    "\n",
    "def median_absolute_percentage_error(y_true: np.array, y_pred: np.array) -> float:\n",
    "    return np.median(np.abs(y_pred-y_true)/y_true)\n",
    "\n",
    "def metrics_stat(y_true: np.array, y_pred: np.array) -> typing.Dict[str,float]:\n",
    "    mape = mean_absolute_percentage_error(y_true, y_pred)\n",
    "    mdape = median_absolute_percentage_error(y_true, y_pred)\n",
    "    rmse = mean_squared_error(y_true, y_pred, squared=False)\n",
    "    r2 = r2_score(y_true, y_pred)\n",
    "    raif_metric = deviation_metric(y_true, y_pred)\n",
    "    return {'mape':mape, 'mdape':mdape, 'rmse': rmse, 'r2': r2, 'raif_metric':raif_metric}"
   ]
  },
  {
   "cell_type": "code",
   "execution_count": 9,
   "id": "3675f037",
   "metadata": {},
   "outputs": [
    {
     "data": {
      "text/plain": [
       "True"
      ]
     },
     "execution_count": 9,
     "metadata": {},
     "output_type": "execute_result"
    }
   ],
   "source": [
    "train_df = train.drop(columns=['id','per_square_meter_price','date', 'osm_city_nearest_name'])\n",
    "test_df = test.drop(columns=['id','date', 'osm_city_nearest_name'])[train_df.columns.tolist()]\n",
    "(np.array(train_df.columns.tolist()) == np.array(test_df.columns.tolist())).all()"
   ]
  },
  {
   "cell_type": "code",
   "execution_count": 10,
   "id": "06807710",
   "metadata": {},
   "outputs": [],
   "source": [
    "from sklearn.preprocessing import LabelEncoder\n",
    "\n",
    "dim_size_ = []\n",
    "for c in CATEGORICAL_FEATURES:\n",
    "    le = LabelEncoder()\n",
    "    le.fit(train_df[c].values.tolist() + test_df[c].values.tolist())\n",
    "    train_df[c] = le.transform(train_df[c])\n",
    "    test_df[c] = le.transform(test_df[c])\n",
    "    dim_size_.append(len(np.unique(train_df[c].values.tolist() + test_df[c].values.tolist())))"
   ]
  },
  {
   "cell_type": "code",
   "execution_count": 11,
   "id": "2beb1039",
   "metadata": {},
   "outputs": [
    {
     "data": {
      "text/plain": [
       "[68, 0, 71, 70, 1]"
      ]
     },
     "execution_count": 11,
     "metadata": {},
     "output_type": "execute_result"
    }
   ],
   "source": [
    "cat_idxs = [train_df.columns.tolist().index(x) for x in CATEGORICAL_FEATURES]\n",
    "cat_idxs"
   ]
  },
  {
   "cell_type": "code",
   "execution_count": 12,
   "id": "fb00d136",
   "metadata": {},
   "outputs": [
    {
     "data": {
      "text/plain": [
       "[49, 4949, 3, 28964, 198]"
      ]
     },
     "execution_count": 12,
     "metadata": {},
     "output_type": "execute_result"
    }
   ],
   "source": [
    "dim_size_"
   ]
  },
  {
   "cell_type": "code",
   "execution_count": 13,
   "id": "6699e04a",
   "metadata": {},
   "outputs": [
    {
     "data": {
      "text/plain": [
       "['region', 'city', 'realty_type', 'street', 'floor']"
      ]
     },
     "execution_count": 13,
     "metadata": {},
     "output_type": "execute_result"
    }
   ],
   "source": [
    "CATEGORICAL_FEATURES"
   ]
  },
  {
   "cell_type": "code",
   "execution_count": null,
   "id": "fe0709a2",
   "metadata": {},
   "outputs": [
    {
     "name": "stdout",
     "output_type": "stream",
     "text": [
      "Device used : cuda\n",
      "epoch 0  | loss: 14.11548| val_0_DevMetric: 3.21479 | val_1_DevMetric: 3.43257 |  0:00:04s\n",
      "epoch 10 | loss: 0.42043 | val_0_DevMetric: 2.18471 | val_1_DevMetric: 2.4995  |  0:00:46s\n",
      "epoch 20 | loss: 0.36017 | val_0_DevMetric: 1.47189 | val_1_DevMetric: 1.95561 |  0:01:28s\n",
      "epoch 30 | loss: 0.32789 | val_0_DevMetric: 1.42917 | val_1_DevMetric: 2.05211 |  0:02:09s\n",
      "epoch 40 | loss: 0.30614 | val_0_DevMetric: 1.402   | val_1_DevMetric: 2.08661 |  0:02:51s\n",
      "epoch 50 | loss: 0.29025 | val_0_DevMetric: 1.49652 | val_1_DevMetric: 2.27925 |  0:03:34s\n",
      "epoch 60 | loss: 0.27731 | val_0_DevMetric: 1.23025 | val_1_DevMetric: 1.88761 |  0:04:16s\n",
      "\n",
      "Early stopping occurred at epoch 67 with best_epoch = 17 and best_val_1_DevMetric = 1.80671\n",
      "Best weights from best epoch are automatically used!\n",
      "Successfully saved model at model_0.pth.zip\n",
      "Device used : cuda\n",
      "epoch 0  | loss: 14.08821| val_0_DevMetric: 3.16155 | val_1_DevMetric: 3.57503 |  0:00:04s\n",
      "epoch 10 | loss: 0.42021 | val_0_DevMetric: 1.86619 | val_1_DevMetric: 2.4577  |  0:00:46s\n",
      "epoch 20 | loss: 0.36391 | val_0_DevMetric: 1.49434 | val_1_DevMetric: 2.14295 |  0:01:29s\n",
      "epoch 30 | loss: 0.33542 | val_0_DevMetric: 1.41703 | val_1_DevMetric: 2.32596 |  0:02:12s\n",
      "epoch 40 | loss: 0.31371 | val_0_DevMetric: 1.33378 | val_1_DevMetric: 2.18367 |  0:02:55s\n",
      "epoch 50 | loss: 0.29871 | val_0_DevMetric: 1.45772 | val_1_DevMetric: 2.4495  |  0:03:38s\n",
      "epoch 60 | loss: 0.28432 | val_0_DevMetric: 1.57656 | val_1_DevMetric: 2.59109 |  0:04:20s\n",
      "epoch 70 | loss: 0.27063 | val_0_DevMetric: 1.961   | val_1_DevMetric: 2.95006 |  0:05:03s\n",
      "\n",
      "Early stopping occurred at epoch 76 with best_epoch = 26 and best_val_1_DevMetric = 2.03521\n",
      "Best weights from best epoch are automatically used!\n",
      "Successfully saved model at model_1.pth.zip\n",
      "Device used : cuda\n",
      "epoch 0  | loss: 13.88405| val_0_DevMetric: 3.51695 | val_1_DevMetric: 3.41905 |  0:00:04s\n",
      "epoch 10 | loss: 0.41089 | val_0_DevMetric: 1.75359 | val_1_DevMetric: 1.97235 |  0:00:53s\n",
      "epoch 20 | loss: 0.35866 | val_0_DevMetric: 1.52287 | val_1_DevMetric: 2.11623 |  0:01:35s\n",
      "epoch 30 | loss: 0.33026 | val_0_DevMetric: 1.57115 | val_1_DevMetric: 2.26311 |  0:02:26s\n",
      "epoch 40 | loss: 0.31249 | val_0_DevMetric: 1.3131  | val_1_DevMetric: 2.1996  |  0:03:31s\n",
      "epoch 50 | loss: 0.29783 | val_0_DevMetric: 1.43252 | val_1_DevMetric: 2.26369 |  0:04:36s\n",
      "epoch 60 | loss: 0.28388 | val_0_DevMetric: 1.66342 | val_1_DevMetric: 2.51072 |  0:05:41s\n"
     ]
    }
   ],
   "source": [
    "from sklearn.model_selection import KFold\n",
    "from pytorch_tabnet.metrics import Metric\n",
    "from pytorch_tabnet.tab_model import TabNetRegressor\n",
    "\n",
    "import torch\n",
    "from torch.optim import AdamW, SGD\n",
    "from torch.optim.lr_scheduler import ReduceLROnPlateau, CosineAnnealingWarmRestarts\n",
    "\n",
    "tabnet_params = dict(\n",
    "    cat_idxs=cat_idxs,\n",
    "    cat_dims=dim_size_,\n",
    "    cat_emb_dim=[3,3,1,8,3],\n",
    "    n_d = 8,\n",
    "    n_a = 8,\n",
    "    n_steps = 1,\n",
    "    gamma = 4,\n",
    "    n_independent = 2,\n",
    "    n_shared = 2,\n",
    "    lambda_sparse = 0,\n",
    "    optimizer_fn = AdamW,\n",
    "    optimizer_params = dict(lr = (1e-2), weight_decay=0.01),\n",
    "    mask_type = \"entmax\",\n",
    "    scheduler_params = dict(T_0=120, T_mult=1, eta_min=1e-4, last_epoch=-1, verbose=False),\n",
    "    scheduler_fn = CosineAnnealingWarmRestarts,\n",
    "    seed = 239,\n",
    "    verbose = 10\n",
    ")\n",
    "\n",
    "kf = KFold(n_splits=5, shuffle=True, random_state=239)\n",
    "\n",
    "class DevMetric(Metric):\n",
    "    def __init__(self):\n",
    "        self._name = \"DevMetric\"\n",
    "        self._maximize = False\n",
    "\n",
    "    def __call__(self, y_true, y_score):\n",
    "        #print(y_true.shape, y_score.shape, y_true.dtype)\n",
    "        return metrics_stat(np.expm1(y_true.flatten()), \n",
    "                            np.expm1(np.clip(y_score.flatten(),5,15))\n",
    "                           )['raif_metric']\n",
    "    \n",
    "\n",
    "ifold = 0\n",
    "for tr,va in kf.split(train_df):\n",
    "    df_tr = train_df.loc[tr].reset_index(drop=True).fillna(0).values\n",
    "    df_va = train_df.loc[va].reset_index(drop=True).fillna(0).values\n",
    "    tr_y = np.log1p(train.loc[tr,[TARGET]].values)\n",
    "    va_y = np.log1p(train.loc[va,[TARGET]].values)\n",
    "    \n",
    "    va_y = va_y[train_df.loc[va].price_type.values == 1]\n",
    "    df_va = df_va[train_df.loc[va].price_type.values == 1]\n",
    "    \n",
    "    c_1_tr_y = tr_y[train_df.loc[tr].price_type.values == 1]\n",
    "    c_1_df_tr = df_tr[train_df.loc[tr].price_type.values == 1]\n",
    "    \n",
    "    clf =  TabNetRegressor(**tabnet_params)\n",
    "    clf.fit(\n",
    "      df_tr, tr_y,\n",
    "      eval_set=[(c_1_df_tr, c_1_tr_y), (df_va, va_y)],\n",
    "      max_epochs = 120,\n",
    "      patience = 50,\n",
    "      batch_size = 1024, \n",
    "      virtual_batch_size = 1024,\n",
    "      num_workers = 4,\n",
    "      drop_last = False,\n",
    "      eval_metric=[DevMetric]\n",
    "    )\n",
    "    clf.save_model('model_'+str(ifold)+'.pth')\n",
    "    ifold += 1"
   ]
  },
  {
   "cell_type": "code",
   "execution_count": null,
   "id": "1ca34419",
   "metadata": {},
   "outputs": [],
   "source": [
    "pred = 0\n",
    "for ifold in range(5):\n",
    "    clf = TabNetRegressor(**tabnet_params)\n",
    "    clf.load_model('model_'+str(ifold)+'.pth.zip')\n",
    "    y_score = clf.predict(test_df.values)\n",
    "    y_score = np.clip(y_score.flatten(),5,15)\n",
    "    pred += np.expm1(y_score) * 0.2\n",
    "test_sub = pd.read_csv('../data/test.csv')[['id']]\n",
    "test_sub[TARGET] = pred\n",
    "test_sub.to_csv('tabnet_base.csv', index=False)"
   ]
  }
 ],
 "metadata": {
  "kernelspec": {
   "display_name": "Python 3 (ipykernel)",
   "language": "python",
   "name": "python3"
  },
  "language_info": {
   "codemirror_mode": {
    "name": "ipython",
    "version": 3
   },
   "file_extension": ".py",
   "mimetype": "text/x-python",
   "name": "python",
   "nbconvert_exporter": "python",
   "pygments_lexer": "ipython3",
   "version": "3.8.9"
  }
 },
 "nbformat": 4,
 "nbformat_minor": 5
}
