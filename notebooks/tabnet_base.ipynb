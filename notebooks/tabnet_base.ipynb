{
 "cells": [
  {
   "cell_type": "code",
   "execution_count": 1,
   "id": "3983b404",
   "metadata": {},
   "outputs": [],
   "source": [
    "import pandas as pd\n",
    "import numpy as np"
   ]
  },
  {
   "cell_type": "code",
   "execution_count": 2,
   "id": "b078c922",
   "metadata": {},
   "outputs": [],
   "source": [
    "train = pd.read_csv('../data/train.csv', low_memory=False)\n",
    "test = pd.read_csv('../data/test.csv')"
   ]
  },
  {
   "cell_type": "code",
   "execution_count": 3,
   "id": "d052e13d",
   "metadata": {},
   "outputs": [
    {
     "data": {
      "text/plain": [
       "Index(['city', 'floor', 'id', 'lat', 'lng', 'osm_amenity_points_in_0.001',\n",
       "       'osm_amenity_points_in_0.005', 'osm_amenity_points_in_0.0075',\n",
       "       'osm_amenity_points_in_0.01', 'osm_building_points_in_0.001',\n",
       "       'osm_building_points_in_0.005', 'osm_building_points_in_0.0075',\n",
       "       'osm_building_points_in_0.01', 'osm_catering_points_in_0.001',\n",
       "       'osm_catering_points_in_0.005', 'osm_catering_points_in_0.0075',\n",
       "       'osm_catering_points_in_0.01', 'osm_city_closest_dist',\n",
       "       'osm_city_nearest_name', 'osm_city_nearest_population',\n",
       "       'osm_crossing_closest_dist', 'osm_crossing_points_in_0.001',\n",
       "       'osm_crossing_points_in_0.005', 'osm_crossing_points_in_0.0075',\n",
       "       'osm_crossing_points_in_0.01', 'osm_culture_points_in_0.001',\n",
       "       'osm_culture_points_in_0.005', 'osm_culture_points_in_0.0075',\n",
       "       'osm_culture_points_in_0.01', 'osm_finance_points_in_0.001',\n",
       "       'osm_finance_points_in_0.005', 'osm_finance_points_in_0.0075',\n",
       "       'osm_finance_points_in_0.01', 'osm_healthcare_points_in_0.005',\n",
       "       'osm_healthcare_points_in_0.0075', 'osm_healthcare_points_in_0.01',\n",
       "       'osm_historic_points_in_0.005', 'osm_historic_points_in_0.0075',\n",
       "       'osm_historic_points_in_0.01', 'osm_hotels_points_in_0.005',\n",
       "       'osm_hotels_points_in_0.0075', 'osm_hotels_points_in_0.01',\n",
       "       'osm_leisure_points_in_0.005', 'osm_leisure_points_in_0.0075',\n",
       "       'osm_leisure_points_in_0.01', 'osm_offices_points_in_0.001',\n",
       "       'osm_offices_points_in_0.005', 'osm_offices_points_in_0.0075',\n",
       "       'osm_offices_points_in_0.01', 'osm_shops_points_in_0.001',\n",
       "       'osm_shops_points_in_0.005', 'osm_shops_points_in_0.0075',\n",
       "       'osm_shops_points_in_0.01', 'osm_subway_closest_dist',\n",
       "       'osm_train_stop_closest_dist', 'osm_train_stop_points_in_0.005',\n",
       "       'osm_train_stop_points_in_0.0075', 'osm_train_stop_points_in_0.01',\n",
       "       'osm_transport_stop_closest_dist', 'osm_transport_stop_points_in_0.005',\n",
       "       'osm_transport_stop_points_in_0.0075',\n",
       "       'osm_transport_stop_points_in_0.01', 'per_square_meter_price',\n",
       "       'reform_count_of_houses_1000', 'reform_count_of_houses_500',\n",
       "       'reform_house_population_1000', 'reform_house_population_500',\n",
       "       'reform_mean_floor_count_1000', 'reform_mean_floor_count_500',\n",
       "       'reform_mean_year_building_1000', 'reform_mean_year_building_500',\n",
       "       'region', 'total_square', 'street', 'date', 'realty_type',\n",
       "       'price_type'],\n",
       "      dtype='object')"
      ]
     },
     "execution_count": 3,
     "metadata": {},
     "output_type": "execute_result"
    }
   ],
   "source": [
    "train.columns"
   ]
  },
  {
   "cell_type": "code",
   "execution_count": 4,
   "id": "2596e11f",
   "metadata": {},
   "outputs": [
    {
     "name": "stdout",
     "output_type": "stream",
     "text": [
      "floor\n",
      "osm_city_nearest_population\n",
      "reform_house_population_1000\n",
      "reform_house_population_500\n",
      "reform_mean_floor_count_1000\n",
      "reform_mean_floor_count_500\n",
      "reform_mean_year_building_1000\n",
      "reform_mean_year_building_500\n",
      "street\n"
     ]
    }
   ],
   "source": [
    "for c in test.columns:\n",
    "    if train.loc[train[c].isnull()].shape[0] > 0:\n",
    "        print(c)"
   ]
  },
  {
   "cell_type": "code",
   "execution_count": 5,
   "id": "2977849a",
   "metadata": {},
   "outputs": [],
   "source": [
    "import pandas as pd\n",
    "UNKNOWN_VALUE = 'missing'\n",
    "\n",
    "def prepare_categorical(df: pd.DataFrame) -> pd.DataFrame:\n",
    "    \"\"\"\n",
    "    Заполняет пропущенные категориальные переменные\n",
    "    :param df: dataframe, обучающая выборка\n",
    "    :return: dataframe\n",
    "    \"\"\"\n",
    "    df_new = df.copy()\n",
    "    fillna_cols = ['region','city','street','realty_type','floor']\n",
    "    df_new[fillna_cols] = df_new[fillna_cols].fillna(UNKNOWN_VALUE)\n",
    "    return df_new\n",
    "train = prepare_categorical(train)\n",
    "test = prepare_categorical(test)"
   ]
  },
  {
   "cell_type": "code",
   "execution_count": 6,
   "id": "7cc64a39",
   "metadata": {},
   "outputs": [],
   "source": [
    "TARGET = 'per_square_meter_price'\n",
    "# признаки (или набор признаков), для которых применяем smoothed target encoding\n",
    "CATEGORICAL_FEATURES = ['region', 'city', 'realty_type', 'street','floor']\n",
    "\n",
    "# численные признаки\n",
    "NUM_FEATURES = ['lat', 'lng', 'osm_amenity_points_in_0.001',\n",
    "       'osm_amenity_points_in_0.005', 'osm_amenity_points_in_0.0075',\n",
    "       'osm_amenity_points_in_0.01', 'osm_building_points_in_0.001',\n",
    "       'osm_building_points_in_0.005', 'osm_building_points_in_0.0075',\n",
    "       'osm_building_points_in_0.01', 'osm_catering_points_in_0.001',\n",
    "       'osm_catering_points_in_0.005', 'osm_catering_points_in_0.0075',\n",
    "       'osm_catering_points_in_0.01', 'osm_city_closest_dist',\n",
    "       'osm_city_nearest_population',\n",
    "       'osm_crossing_closest_dist', 'osm_crossing_points_in_0.001',\n",
    "       'osm_crossing_points_in_0.005', 'osm_crossing_points_in_0.0075',\n",
    "       'osm_crossing_points_in_0.01', 'osm_culture_points_in_0.001',\n",
    "       'osm_culture_points_in_0.005', 'osm_culture_points_in_0.0075',\n",
    "       'osm_culture_points_in_0.01', 'osm_finance_points_in_0.001',\n",
    "       'osm_finance_points_in_0.005', 'osm_finance_points_in_0.0075',\n",
    "       'osm_finance_points_in_0.01', 'osm_healthcare_points_in_0.005',\n",
    "       'osm_healthcare_points_in_0.0075', 'osm_healthcare_points_in_0.01',\n",
    "       'osm_historic_points_in_0.005', 'osm_historic_points_in_0.0075',\n",
    "       'osm_historic_points_in_0.01', 'osm_hotels_points_in_0.005',\n",
    "       'osm_hotels_points_in_0.0075', 'osm_hotels_points_in_0.01',\n",
    "       'osm_leisure_points_in_0.005', 'osm_leisure_points_in_0.0075',\n",
    "       'osm_leisure_points_in_0.01', 'osm_offices_points_in_0.001',\n",
    "       'osm_offices_points_in_0.005', 'osm_offices_points_in_0.0075',\n",
    "       'osm_offices_points_in_0.01', 'osm_shops_points_in_0.001',\n",
    "       'osm_shops_points_in_0.005', 'osm_shops_points_in_0.0075',\n",
    "       'osm_shops_points_in_0.01', 'osm_subway_closest_dist',\n",
    "       'osm_train_stop_closest_dist', 'osm_train_stop_points_in_0.005',\n",
    "       'osm_train_stop_points_in_0.0075', 'osm_train_stop_points_in_0.01',\n",
    "       'osm_transport_stop_closest_dist', 'osm_transport_stop_points_in_0.005',\n",
    "       'osm_transport_stop_points_in_0.0075',\n",
    "       'osm_transport_stop_points_in_0.01',\n",
    "       'reform_count_of_houses_1000', 'reform_count_of_houses_500',\n",
    "       'reform_house_population_1000', 'reform_house_population_500',\n",
    "       'reform_mean_floor_count_1000', 'reform_mean_floor_count_500',\n",
    "       'reform_mean_year_building_1000', 'reform_mean_year_building_500','total_square']"
   ]
  },
  {
   "cell_type": "code",
   "execution_count": 7,
   "id": "53616038",
   "metadata": {},
   "outputs": [],
   "source": [
    "import typing\n",
    "import numpy as np\n",
    "from sklearn.metrics import mean_absolute_percentage_error, r2_score, mean_squared_error\n",
    "\n",
    "THRESHOLD = 0.15\n",
    "NEGATIVE_WEIGHT = 1.1\n",
    "\n",
    "\n",
    "def deviation_metric_one_sample(y_true: typing.Union[float, int], y_pred: typing.Union[float, int]) -> float:\n",
    "    \"\"\"\n",
    "    Реализация кастомной метрики для хакатона.\n",
    "\n",
    "    :param y_true: float, реальная цена\n",
    "    :param y_pred: float, предсказанная цена\n",
    "    :return: float, значение метрики\n",
    "    \"\"\"\n",
    "    deviation = (y_pred - y_true) / np.maximum(1e-8, y_true)\n",
    "    if np.abs(deviation) <= THRESHOLD:\n",
    "        return 0\n",
    "    elif deviation <= - 4 * THRESHOLD:\n",
    "        return 9 * NEGATIVE_WEIGHT\n",
    "    elif deviation < -THRESHOLD:\n",
    "        return NEGATIVE_WEIGHT * ((deviation / THRESHOLD) + 1) ** 2\n",
    "    elif deviation < 4 * THRESHOLD:\n",
    "        return ((deviation / THRESHOLD) - 1) ** 2\n",
    "    else:\n",
    "        return 9\n",
    "\n",
    "\n",
    "def deviation_metric(y_true: np.array, y_pred: np.array) -> float:\n",
    "    return np.mean([deviation_metric_one_sample(y_true[n], y_pred[n]) for n in range(len(y_true))]) #.mean()\n",
    "\n",
    "def median_absolute_percentage_error(y_true: np.array, y_pred: np.array) -> float:\n",
    "    return np.median(np.abs(y_pred-y_true)/y_true)\n",
    "\n",
    "def metrics_stat(y_true: np.array, y_pred: np.array) -> typing.Dict[str,float]:\n",
    "    mape = mean_absolute_percentage_error(y_true, y_pred)\n",
    "    mdape = median_absolute_percentage_error(y_true, y_pred)\n",
    "    rmse = mean_squared_error(y_true, y_pred, squared=False)\n",
    "    r2 = r2_score(y_true, y_pred)\n",
    "    raif_metric = deviation_metric(y_true, y_pred)\n",
    "    return {'mape':mape, 'mdape':mdape, 'rmse': rmse, 'r2': r2, 'raif_metric':raif_metric}"
   ]
  },
  {
   "cell_type": "code",
   "execution_count": 8,
   "id": "42353691",
   "metadata": {},
   "outputs": [
    {
     "data": {
      "text/plain": [
       "True"
      ]
     },
     "execution_count": 8,
     "metadata": {},
     "output_type": "execute_result"
    }
   ],
   "source": [
    "train_df = train.drop(columns=['id','per_square_meter_price','date', 'osm_city_nearest_name'])\n",
    "test_df = test.drop(columns=['id','date', 'osm_city_nearest_name'])[train_df.columns.tolist()]\n",
    "(np.array(train_df.columns.tolist()) == np.array(test_df.columns.tolist())).all()"
   ]
  },
  {
   "cell_type": "code",
   "execution_count": 9,
   "id": "7cbcf351",
   "metadata": {},
   "outputs": [],
   "source": [
    "# list1, list2 - индексы категориальных фичей, количество категорий"
   ]
  },
  {
   "cell_type": "code",
   "execution_count": 10,
   "id": "3e81b000",
   "metadata": {},
   "outputs": [],
   "source": [
    "from sklearn.preprocessing import LabelEncoder\n",
    "\n",
    "dim_size_ = []\n",
    "for c in CATEGORICAL_FEATURES:\n",
    "    le = LabelEncoder()\n",
    "    le.fit(train_df[c].values.tolist() + test_df[c].values.tolist())\n",
    "    train_df[c] = le.transform(train_df[c])\n",
    "    test_df[c] = le.transform(test_df[c])\n",
    "    dim_size_.append(len(np.unique(train_df[c].values.tolist() + test_df[c].values.tolist())))"
   ]
  },
  {
   "cell_type": "code",
   "execution_count": 11,
   "id": "79ee8097",
   "metadata": {},
   "outputs": [
    {
     "data": {
      "text/plain": [
       "[68, 0, 71, 70, 1]"
      ]
     },
     "execution_count": 11,
     "metadata": {},
     "output_type": "execute_result"
    }
   ],
   "source": [
    "cat_idxs = [train_df.columns.tolist().index(x) for x in CATEGORICAL_FEATURES]\n",
    "cat_idxs"
   ]
  },
  {
   "cell_type": "code",
   "execution_count": null,
   "id": "50aae63e",
   "metadata": {},
   "outputs": [
    {
     "name": "stdout",
     "output_type": "stream",
     "text": [
      "Device used : cuda\n",
      "epoch 0  | loss: 15.00483| val_0_DevMetric: 8.15112 |  0:00:02s\n",
      "epoch 10 | loss: 0.62307 | val_0_DevMetric: 4.09648 |  0:00:26s\n",
      "epoch 20 | loss: 0.46949 | val_0_DevMetric: 3.77694 |  0:00:51s\n",
      "epoch 30 | loss: 0.45669 | val_0_DevMetric: 3.47042 |  0:01:15s\n",
      "epoch 40 | loss: 0.47531 | val_0_DevMetric: 4.24917 |  0:01:40s\n",
      "epoch 50 | loss: 0.47331 | val_0_DevMetric: 4.11629 |  0:02:05s\n",
      "epoch 60 | loss: 0.4669  | val_0_DevMetric: 3.41294 |  0:02:29s\n",
      "epoch 70 | loss: 0.45264 | val_0_DevMetric: 4.07298 |  0:02:54s\n",
      "epoch 80 | loss: 0.40584 | val_0_DevMetric: 3.37509 |  0:03:18s\n",
      "epoch 90 | loss: 0.3877  | val_0_DevMetric: 3.38158 |  0:03:43s\n",
      "epoch 100| loss: 0.38088 | val_0_DevMetric: 3.32358 |  0:04:07s\n",
      "epoch 110| loss: 0.37579 | val_0_DevMetric: 3.41547 |  0:04:32s\n",
      "epoch 120| loss: 0.37169 | val_0_DevMetric: 3.409   |  0:04:56s\n",
      "epoch 130| loss: 0.36005 | val_0_DevMetric: 3.3483  |  0:05:21s\n",
      "epoch 140| loss: 0.35861 | val_0_DevMetric: 3.31618 |  0:05:45s\n",
      "epoch 150| loss: 0.35863 | val_0_DevMetric: 3.29301 |  0:06:10s\n",
      "epoch 160| loss: 0.35253 | val_0_DevMetric: 3.43708 |  0:06:34s\n",
      "epoch 170| loss: 0.35164 | val_0_DevMetric: 3.50873 |  0:06:59s\n",
      "epoch 180| loss: 0.34923 | val_0_DevMetric: 3.36811 |  0:07:23s\n",
      "epoch 190| loss: 0.34589 | val_0_DevMetric: 3.29298 |  0:07:48s\n",
      "epoch 200| loss: 0.33319 | val_0_DevMetric: 3.29069 |  0:08:12s\n",
      "epoch 210| loss: 0.3306  | val_0_DevMetric: 3.25421 |  0:08:37s\n",
      "epoch 220| loss: 0.32763 | val_0_DevMetric: 3.24482 |  0:09:01s\n",
      "epoch 230| loss: 0.33    | val_0_DevMetric: 3.40188 |  0:09:25s\n",
      "epoch 240| loss: 0.34885 | val_0_DevMetric: 3.24923 |  0:09:50s\n",
      "epoch 250| loss: 0.32598 | val_0_DevMetric: 3.32135 |  0:10:14s\n",
      "epoch 260| loss: 0.32693 | val_0_DevMetric: 3.22469 |  0:10:39s\n",
      "epoch 270| loss: 0.31963 | val_0_DevMetric: 3.33755 |  0:11:03s\n",
      "epoch 280| loss: 0.31641 | val_0_DevMetric: 3.28049 |  0:11:28s\n",
      "epoch 290| loss: 0.31587 | val_0_DevMetric: 3.26111 |  0:11:53s\n",
      "epoch 300| loss: 0.31479 | val_0_DevMetric: 3.36949 |  0:12:18s\n",
      "epoch 310| loss: 0.31065 | val_0_DevMetric: 3.20749 |  0:12:43s\n",
      "epoch 320| loss: 0.30448 | val_0_DevMetric: 3.22969 |  0:13:08s\n",
      "epoch 330| loss: 0.30529 | val_0_DevMetric: 3.21284 |  0:13:33s\n"
     ]
    }
   ],
   "source": [
    "from sklearn.model_selection import KFold\n",
    "from pytorch_tabnet.metrics import Metric\n",
    "from pytorch_tabnet.tab_model import TabNetRegressor\n",
    "\n",
    "import torch\n",
    "from torch.optim import Adam, SGD\n",
    "from torch.optim.lr_scheduler import ReduceLROnPlateau, CosineAnnealingWarmRestarts\n",
    "\n",
    "tabnet_params = dict(\n",
    "    cat_idxs=cat_idxs,\n",
    "    cat_dims=dim_size_,\n",
    "    cat_emb_dim=1,\n",
    "    n_d = 16,\n",
    "    n_a = 16,\n",
    "    n_steps = 2,\n",
    "    gamma = 2,\n",
    "    n_independent = 2,\n",
    "    n_shared = 2,\n",
    "    lambda_sparse = 0,\n",
    "    optimizer_fn = Adam,\n",
    "    optimizer_params = dict(lr = (1e-1)),\n",
    "    mask_type = \"entmax\",\n",
    "    scheduler_params = dict(T_0=500, T_mult=1, eta_min=1e-4, last_epoch=-1, verbose=False),\n",
    "    scheduler_fn = CosineAnnealingWarmRestarts,\n",
    "    seed = 239,\n",
    "    verbose = 10\n",
    ")\n",
    "\n",
    "kf = KFold(n_splits=5, shuffle=True, random_state=239)\n",
    "\n",
    "class DevMetric(Metric):\n",
    "    def __init__(self):\n",
    "        self._name = \"DevMetric\"\n",
    "        self._maximize = False\n",
    "\n",
    "    def __call__(self, y_true, y_score):\n",
    "        #print(y_true.shape, y_score.shape, y_true.dtype)\n",
    "        return metrics_stat(np.expm1(y_true.flatten()), \n",
    "                            np.expm1(np.clip(y_score.flatten(),5,15))\n",
    "                           )['raif_metric']\n",
    "    \n",
    "\n",
    "ifold = 0\n",
    "for tr,va in kf.split(train_df):\n",
    "    df_tr = train_df.loc[tr].reset_index(drop=True).fillna(0).values\n",
    "    df_va = train_df.loc[va].reset_index(drop=True).fillna(0).values\n",
    "    tr_y = np.log1p(train.loc[tr,[TARGET]].values)\n",
    "    va_y = np.log1p(train.loc[va,[TARGET]].values)\n",
    "    \n",
    "    clf =  TabNetRegressor(**tabnet_params)\n",
    "    clf.fit(\n",
    "      df_tr, tr_y,\n",
    "      eval_set=[(df_va, va_y)],\n",
    "      max_epochs = 500,\n",
    "      patience = 50,\n",
    "      batch_size = 10240, \n",
    "      virtual_batch_size = 1024,\n",
    "      num_workers = 4,\n",
    "      drop_last = False,\n",
    "      eval_metric=[DevMetric]\n",
    "    )\n",
    "    clf.save_model('model_'+str(ifold)+'.pth')\n",
    "    ifold += 1"
   ]
  },
  {
   "cell_type": "code",
   "execution_count": null,
   "id": "419c849e",
   "metadata": {},
   "outputs": [],
   "source": []
  }
 ],
 "metadata": {
  "kernelspec": {
   "display_name": "Python 3 (ipykernel)",
   "language": "python",
   "name": "python3"
  },
  "language_info": {
   "codemirror_mode": {
    "name": "ipython",
    "version": 3
   },
   "file_extension": ".py",
   "mimetype": "text/x-python",
   "name": "python",
   "nbconvert_exporter": "python",
   "pygments_lexer": "ipython3",
   "version": "3.8.9"
  }
 },
 "nbformat": 4,
 "nbformat_minor": 5
}
